{
 "cells": [
  {
   "cell_type": "markdown",
   "id": "6dcca2022b7c32c6",
   "metadata": {},
   "source": [
    "# Portfolio Assessment-2: “Systematic approach to develop ML model”"
   ]
  },
  {
   "cell_type": "markdown",
   "id": "c18345940c76a006",
   "metadata": {},
   "source": [
    "## 1 - Data collection"
   ]
  },
  {
   "cell_type": "code",
   "execution_count": 1,
   "id": "6dff56da78c05c78",
   "metadata": {
    "ExecuteTime": {
     "end_time": "2024-09-27T19:44:09.232382Z",
     "start_time": "2024-09-27T19:44:08.153755Z"
    }
   },
   "outputs": [
    {
     "name": "stdout",
     "output_type": "stream",
     "text": [
      "<class 'pandas.core.frame.DataFrame'>\n",
      "RangeIndex: 72060 entries, 0 to 72059\n",
      "Data columns (total 8 columns):\n",
      " #   Column        Non-Null Count  Dtype  \n",
      "---  ------        --------------  -----  \n",
      " 0   Frame         72060 non-null  int64  \n",
      " 1   Right Hand x  72060 non-null  float64\n",
      " 2   Right Hand y  72060 non-null  float64\n",
      " 3   Right Hand z  72060 non-null  float64\n",
      " 4   Left Hand x   72060 non-null  float64\n",
      " 5   Left Hand y   72060 non-null  float64\n",
      " 6   Left Hand z   72060 non-null  float64\n",
      " 7   class         72060 non-null  int64  \n",
      "dtypes: float64(6), int64(2)\n",
      "memory usage: 4.4 MB\n"
     ]
    }
   ],
   "source": [
    "import pandas as pd\n",
    "file_paths = ['ampc2/Boning.csv', 'ampc2/Slicing.csv']\n",
    "\n",
    "# 6 cols frame\n",
    "cols_to_read = [f'Right Hand {i}' for i in ['x', 'y', 'z']] + [f'Left Hand {i}' for i in ['x', 'y', 'z']] + ['Frame']\n",
    "\n",
    "# 0 - boning\n",
    "boning_df = pd.read_csv(file_paths[0], usecols=cols_to_read)\n",
    "boning_df['class'] = 0\n",
    "\n",
    "# 1 - slicing\n",
    "slicing_df = pd.read_csv(file_paths[1], usecols=cols_to_read)\n",
    "slicing_df['class'] = 1\n",
    "\n",
    "df = pd.concat([boning_df, slicing_df], ignore_index=True)\n",
    "\n",
    "df.to_csv('ampc2/combined_df.csv', index=False)\n",
    "\n",
    "df.info()"
   ]
  },
  {
   "cell_type": "markdown",
   "id": "25c47b291818276d",
   "metadata": {},
   "source": [
    "## 2 - Create composite columns"
   ]
  },
  {
   "cell_type": "markdown",
   "id": "baa37c560f3d5abc",
   "metadata": {},
   "source": [
    "### Column set 1 - Right Hand"
   ]
  },
  {
   "cell_type": "code",
   "execution_count": 2,
   "id": "e4fab02ab96e6f13",
   "metadata": {
    "ExecuteTime": {
     "end_time": "2024-09-27T19:44:09.270190Z",
     "start_time": "2024-09-27T19:44:09.233389Z"
    }
   },
   "outputs": [],
   "source": [
    "import numpy as np\n",
    "\n",
    "# ------- Column set 1 - Right hand -------\n",
    "\n",
    "# Root mean square of x and y\n",
    "df['rms_right_xy'] = np.sqrt(np.mean(df[['Right Hand x', 'Right Hand y']] ** 2, axis=1))\n",
    "\n",
    "# Root mean square of y and z\n",
    "df['rms_right_yz'] = np.sqrt(np.mean(df[['Right Hand y', 'Right Hand z']] ** 2, axis=1))\n",
    "\n",
    "# Root mean square of x and z\n",
    "df['rms_right_xz'] = np.sqrt(np.mean(df[['Right Hand x', 'Right Hand z']] ** 2, axis=1))\n",
    "\n",
    "# Root mean square of x, y, and z\n",
    "df['rms_right_xyz'] = np.sqrt(np.mean(df[['Right Hand x', 'Right Hand y', 'Right Hand z']] ** 2, axis=1))\n",
    "\n",
    "# Right hand roll value\n",
    "df['right_hand_roll'] = 180 * np.arctan2(df['Right Hand y'], np.sqrt(df['Right Hand x']**2 + df['Right Hand z']**2)) / np.pi\n",
    "\n",
    "# Right hand pitch value\n",
    "df['right_hand_pitch'] = 180 * np.arctan2(df['Right Hand x'], np.sqrt(df['Right Hand y']**2 + df['Right Hand z']**2)) / np.pi\n"
   ]
  },
  {
   "cell_type": "markdown",
   "id": "905cbbc479ba31b0",
   "metadata": {},
   "source": [
    "### Column set 2 - Left Hand"
   ]
  },
  {
   "cell_type": "code",
   "execution_count": 3,
   "id": "51725e0e99dc6e75",
   "metadata": {
    "ExecuteTime": {
     "end_time": "2024-09-27T19:44:09.305075Z",
     "start_time": "2024-09-27T19:44:09.271450Z"
    }
   },
   "outputs": [],
   "source": [
    "# ------- Column set 2 - Left hand -------\n",
    "\n",
    "# Root mean square of x and y\n",
    "df['rms_left_xy'] = np.sqrt(np.mean(df[['Left Hand x', 'Left Hand y']] ** 2, axis=1))\n",
    "\n",
    "# Root mean square of y and z\n",
    "df['rms_left_yz'] = np.sqrt(np.mean(df[['Left Hand y', 'Left Hand z']] ** 2, axis=1))\n",
    "\n",
    "# Root mean square of x and z\n",
    "df['rms_left_xz'] = np.sqrt(np.mean(df[['Left Hand x', 'Left Hand z']] ** 2, axis=1))\n",
    "\n",
    "# Root mean square of x, y, and z\n",
    "df['rms_left_xyz'] = np.sqrt(np.mean(df[['Left Hand x', 'Left Hand y', 'Left Hand z']] ** 2, axis=1))\n",
    "\n",
    "# Left hand roll value\n",
    "df['left_hand_roll'] = 180 * np.arctan2(df['Left Hand y'], np.sqrt(df['Left Hand x']**2 + df['Left Hand z']**2)) / np.pi\n",
    "\n",
    "# Left hand pitch value\n",
    "df['left_hand_pitch'] = 180 * np.arctan2(df['Left Hand x'], np.sqrt(df['Left Hand y']**2 + df['Left Hand z']**2)) / np.pi"
   ]
  },
  {
   "cell_type": "code",
   "execution_count": 4,
   "id": "6b487a1821aa88d3",
   "metadata": {
    "ExecuteTime": {
     "end_time": "2024-09-27T19:44:09.314174Z",
     "start_time": "2024-09-27T19:44:09.305075Z"
    }
   },
   "outputs": [
    {
     "name": "stdout",
     "output_type": "stream",
     "text": [
      "<class 'pandas.core.frame.DataFrame'>\n",
      "RangeIndex: 72060 entries, 0 to 72059\n",
      "Data columns (total 20 columns):\n",
      " #   Column            Non-Null Count  Dtype  \n",
      "---  ------            --------------  -----  \n",
      " 0   Frame             72060 non-null  int64  \n",
      " 1   Right Hand x      72060 non-null  float64\n",
      " 2   Right Hand y      72060 non-null  float64\n",
      " 3   Right Hand z      72060 non-null  float64\n",
      " 4   Left Hand x       72060 non-null  float64\n",
      " 5   Left Hand y       72060 non-null  float64\n",
      " 6   Left Hand z       72060 non-null  float64\n",
      " 7   class             72060 non-null  int64  \n",
      " 8   rms_right_xy      72060 non-null  float64\n",
      " 9   rms_right_yz      72060 non-null  float64\n",
      " 10  rms_right_xz      72060 non-null  float64\n",
      " 11  rms_right_xyz     72060 non-null  float64\n",
      " 12  right_hand_roll   72060 non-null  float64\n",
      " 13  right_hand_pitch  72060 non-null  float64\n",
      " 14  rms_left_xy       72060 non-null  float64\n",
      " 15  rms_left_yz       72060 non-null  float64\n",
      " 16  rms_left_xz       72060 non-null  float64\n",
      " 17  rms_left_xyz      72060 non-null  float64\n",
      " 18  left_hand_roll    72060 non-null  float64\n",
      " 19  left_hand_pitch   72060 non-null  float64\n",
      "dtypes: float64(18), int64(2)\n",
      "memory usage: 11.0 MB\n"
     ]
    }
   ],
   "source": [
    "df.info()"
   ]
  },
  {
   "cell_type": "code",
   "execution_count": 5,
   "id": "b12b142c796a259b",
   "metadata": {
    "ExecuteTime": {
     "end_time": "2024-09-27T19:44:09.328482Z",
     "start_time": "2024-09-27T19:44:09.316112Z"
    }
   },
   "outputs": [
    {
     "data": {
      "text/html": [
       "<div>\n",
       "<style scoped>\n",
       "    .dataframe tbody tr th:only-of-type {\n",
       "        vertical-align: middle;\n",
       "    }\n",
       "\n",
       "    .dataframe tbody tr th {\n",
       "        vertical-align: top;\n",
       "    }\n",
       "\n",
       "    .dataframe thead th {\n",
       "        text-align: right;\n",
       "    }\n",
       "</style>\n",
       "<table border=\"1\" class=\"dataframe\">\n",
       "  <thead>\n",
       "    <tr style=\"text-align: right;\">\n",
       "      <th></th>\n",
       "      <th>Frame</th>\n",
       "      <th>Right Hand x</th>\n",
       "      <th>Right Hand y</th>\n",
       "      <th>Right Hand z</th>\n",
       "      <th>Left Hand x</th>\n",
       "      <th>Left Hand y</th>\n",
       "      <th>Left Hand z</th>\n",
       "      <th>class</th>\n",
       "      <th>rms_right_xy</th>\n",
       "      <th>rms_right_yz</th>\n",
       "      <th>rms_right_xz</th>\n",
       "      <th>rms_right_xyz</th>\n",
       "      <th>right_hand_roll</th>\n",
       "      <th>right_hand_pitch</th>\n",
       "      <th>rms_left_xy</th>\n",
       "      <th>rms_left_yz</th>\n",
       "      <th>rms_left_xz</th>\n",
       "      <th>rms_left_xyz</th>\n",
       "      <th>left_hand_roll</th>\n",
       "      <th>left_hand_pitch</th>\n",
       "    </tr>\n",
       "  </thead>\n",
       "  <tbody>\n",
       "    <tr>\n",
       "      <th>0</th>\n",
       "      <td>0</td>\n",
       "      <td>0.311465</td>\n",
       "      <td>-0.329472</td>\n",
       "      <td>0.750763</td>\n",
       "      <td>0.906499</td>\n",
       "      <td>-0.024053</td>\n",
       "      <td>0.779686</td>\n",
       "      <td>0</td>\n",
       "      <td>0.320595</td>\n",
       "      <td>0.579740</td>\n",
       "      <td>0.574742</td>\n",
       "      <td>0.506362</td>\n",
       "      <td>-22.065225</td>\n",
       "      <td>20.801413</td>\n",
       "      <td>0.641217</td>\n",
       "      <td>0.551584</td>\n",
       "      <td>0.845473</td>\n",
       "      <td>0.690466</td>\n",
       "      <td>-1.152438</td>\n",
       "      <td>49.287457</td>\n",
       "    </tr>\n",
       "    <tr>\n",
       "      <th>1</th>\n",
       "      <td>1</td>\n",
       "      <td>0.563723</td>\n",
       "      <td>-0.088187</td>\n",
       "      <td>1.033415</td>\n",
       "      <td>0.917992</td>\n",
       "      <td>0.172597</td>\n",
       "      <td>0.860215</td>\n",
       "      <td>0</td>\n",
       "      <td>0.403460</td>\n",
       "      <td>0.733391</td>\n",
       "      <td>0.832385</td>\n",
       "      <td>0.681544</td>\n",
       "      <td>-4.284295</td>\n",
       "      <td>28.524936</td>\n",
       "      <td>0.660492</td>\n",
       "      <td>0.620387</td>\n",
       "      <td>0.889573</td>\n",
       "      <td>0.733137</td>\n",
       "      <td>7.811881</td>\n",
       "      <td>46.296499</td>\n",
       "    </tr>\n",
       "    <tr>\n",
       "      <th>2</th>\n",
       "      <td>2</td>\n",
       "      <td>0.474087</td>\n",
       "      <td>-0.922834</td>\n",
       "      <td>0.802289</td>\n",
       "      <td>0.813233</td>\n",
       "      <td>0.054823</td>\n",
       "      <td>0.709743</td>\n",
       "      <td>0</td>\n",
       "      <td>0.733615</td>\n",
       "      <td>0.864665</td>\n",
       "      <td>0.658948</td>\n",
       "      <td>0.757199</td>\n",
       "      <td>-44.720146</td>\n",
       "      <td>21.191281</td>\n",
       "      <td>0.576348</td>\n",
       "      <td>0.503359</td>\n",
       "      <td>0.763244</td>\n",
       "      <td>0.623990</td>\n",
       "      <td>2.907617</td>\n",
       "      <td>48.802990</td>\n",
       "    </tr>\n",
       "    <tr>\n",
       "      <th>3</th>\n",
       "      <td>3</td>\n",
       "      <td>0.690891</td>\n",
       "      <td>-1.622115</td>\n",
       "      <td>0.393867</td>\n",
       "      <td>0.557506</td>\n",
       "      <td>0.006721</td>\n",
       "      <td>0.910102</td>\n",
       "      <td>0</td>\n",
       "      <td>1.246713</td>\n",
       "      <td>1.180336</td>\n",
       "      <td>0.562344</td>\n",
       "      <td>1.043027</td>\n",
       "      <td>-63.882655</td>\n",
       "      <td>22.484355</td>\n",
       "      <td>0.394245</td>\n",
       "      <td>0.643557</td>\n",
       "      <td>0.754685</td>\n",
       "      <td>0.616210</td>\n",
       "      <td>0.360782</td>\n",
       "      <td>31.489924</td>\n",
       "    </tr>\n",
       "    <tr>\n",
       "      <th>4</th>\n",
       "      <td>4</td>\n",
       "      <td>0.179927</td>\n",
       "      <td>-1.985673</td>\n",
       "      <td>1.390812</td>\n",
       "      <td>0.409958</td>\n",
       "      <td>-0.113903</td>\n",
       "      <td>0.978904</td>\n",
       "      <td>0</td>\n",
       "      <td>1.409835</td>\n",
       "      <td>1.714243</td>\n",
       "      <td>0.991648</td>\n",
       "      <td>1.403523</td>\n",
       "      <td>-54.767962</td>\n",
       "      <td>4.244606</td>\n",
       "      <td>0.300865</td>\n",
       "      <td>0.696860</td>\n",
       "      <td>0.750439</td>\n",
       "      <td>0.616250</td>\n",
       "      <td>-6.125888</td>\n",
       "      <td>22.586656</td>\n",
       "    </tr>\n",
       "  </tbody>\n",
       "</table>\n",
       "</div>"
      ],
      "text/plain": [
       "   Frame  Right Hand x  Right Hand y  Right Hand z  Left Hand x  Left Hand y  \\\n",
       "0      0      0.311465     -0.329472      0.750763     0.906499    -0.024053   \n",
       "1      1      0.563723     -0.088187      1.033415     0.917992     0.172597   \n",
       "2      2      0.474087     -0.922834      0.802289     0.813233     0.054823   \n",
       "3      3      0.690891     -1.622115      0.393867     0.557506     0.006721   \n",
       "4      4      0.179927     -1.985673      1.390812     0.409958    -0.113903   \n",
       "\n",
       "   Left Hand z  class  rms_right_xy  rms_right_yz  rms_right_xz  \\\n",
       "0     0.779686      0      0.320595      0.579740      0.574742   \n",
       "1     0.860215      0      0.403460      0.733391      0.832385   \n",
       "2     0.709743      0      0.733615      0.864665      0.658948   \n",
       "3     0.910102      0      1.246713      1.180336      0.562344   \n",
       "4     0.978904      0      1.409835      1.714243      0.991648   \n",
       "\n",
       "   rms_right_xyz  right_hand_roll  right_hand_pitch  rms_left_xy  rms_left_yz  \\\n",
       "0       0.506362       -22.065225         20.801413     0.641217     0.551584   \n",
       "1       0.681544        -4.284295         28.524936     0.660492     0.620387   \n",
       "2       0.757199       -44.720146         21.191281     0.576348     0.503359   \n",
       "3       1.043027       -63.882655         22.484355     0.394245     0.643557   \n",
       "4       1.403523       -54.767962          4.244606     0.300865     0.696860   \n",
       "\n",
       "   rms_left_xz  rms_left_xyz  left_hand_roll  left_hand_pitch  \n",
       "0     0.845473      0.690466       -1.152438        49.287457  \n",
       "1     0.889573      0.733137        7.811881        46.296499  \n",
       "2     0.763244      0.623990        2.907617        48.802990  \n",
       "3     0.754685      0.616210        0.360782        31.489924  \n",
       "4     0.750439      0.616250       -6.125888        22.586656  "
      ]
     },
     "execution_count": 5,
     "metadata": {},
     "output_type": "execute_result"
    }
   ],
   "source": [
    "df.head()"
   ]
  },
  {
   "cell_type": "markdown",
   "id": "92944f2127b1389b",
   "metadata": {},
   "source": [
    "## 3 - Data pre-processing and Feature computation"
   ]
  },
  {
   "cell_type": "code",
   "execution_count": 6,
   "id": "43dab28010734000",
   "metadata": {
    "ExecuteTime": {
     "end_time": "2024-09-27T19:44:13.603994Z",
     "start_time": "2024-09-27T19:44:09.329489Z"
    }
   },
   "outputs": [],
   "source": [
    "import pandas as pd\n",
    "import numpy as np\n",
    "\n",
    "from scipy.signal import find_peaks\n",
    "from scipy import integrate\n",
    "\n",
    "def calculate_auc(x):\n",
    "     return integrate.trapezoid(x) # Calculate area under the curve (AUC) using trapezoidal integration\n",
    "    \n",
    "def calculate_peak(x):\n",
    "   peaks, _ = find_peaks(x)\n",
    "   return len(peaks)\n",
    "\n",
    "\n",
    "frames_per_minute = 60\n",
    "\n",
    "num_minutes = len(df) // frames_per_minute\n",
    "\n",
    "new_cols = {}\n",
    "\n",
    "for column in df.columns:\n",
    "    if column not in ['Frame', 'class']:\n",
    "        # Initialize lists to hold the new features values for each chunk\n",
    "        mean_values = []\n",
    "        max_values = []\n",
    "        min_values = []\n",
    "        std_values = []\n",
    "        auc_values = []\n",
    "        peak_values = []\n",
    "        \n",
    "        # Loop through each chunk\n",
    "        for i in range(num_minutes):\n",
    "            start = i*frames_per_minute\n",
    "            end = (i+1)*frames_per_minute\n",
    "            \n",
    "            # Calculate the mean, max, min, and std values for the chunk\n",
    "            mean_values.append(np.mean(df[column][start:end]))\n",
    "            max_values.append(np.max(df[column][start:end]))\n",
    "            min_values.append(np.min(df[column][start:end]))\n",
    "            std_values.append(np.std(df[column][start:end]))\n",
    "            \n",
    "            # Calculate the AUC for the chunk\n",
    "            auc_values.append(calculate_auc(df[column][start:end]))\n",
    "            \n",
    "            # Calculate the number of peaks for the chunk\n",
    "            peak_values.append(calculate_peak(df[column][start:end]))\n",
    "            \n",
    "        # Add the new features to the new_features_df\n",
    "        new_cols[f'{column}_mean'] = mean_values\n",
    "        new_cols[f'{column}_max'] = max_values\n",
    "        new_cols[f'{column}_min'] = min_values\n",
    "        new_cols[f'{column}_std'] = std_values\n",
    "        new_cols[f'{column}_auc'] = auc_values\n",
    "        new_cols[f'{column}_peak'] = peak_values\n",
    "        \n",
    "# Convert the new columns to a dataframe to avoid fragmentation issues\n",
    "new_features_df = pd.DataFrame(new_cols)\n",
    "\n",
    "new_features_df['class'] = df['class'][::frames_per_minute].reset_index(drop=True)\n",
    "            \n",
    "new_features_df['Minute'] = range(1, num_minutes + 1)"
   ]
  },
  {
   "cell_type": "code",
   "execution_count": 7,
   "id": "a2be710c12cc0c92",
   "metadata": {
    "ExecuteTime": {
     "end_time": "2024-09-27T19:44:13.694771Z",
     "start_time": "2024-09-27T19:44:13.604422Z"
    }
   },
   "outputs": [
    {
     "data": {
      "text/html": [
       "<div>\n",
       "<style scoped>\n",
       "    .dataframe tbody tr th:only-of-type {\n",
       "        vertical-align: middle;\n",
       "    }\n",
       "\n",
       "    .dataframe tbody tr th {\n",
       "        vertical-align: top;\n",
       "    }\n",
       "\n",
       "    .dataframe thead th {\n",
       "        text-align: right;\n",
       "    }\n",
       "</style>\n",
       "<table border=\"1\" class=\"dataframe\">\n",
       "  <thead>\n",
       "    <tr style=\"text-align: right;\">\n",
       "      <th></th>\n",
       "      <th>Right Hand x_mean</th>\n",
       "      <th>Right Hand x_max</th>\n",
       "      <th>Right Hand x_min</th>\n",
       "      <th>Right Hand x_std</th>\n",
       "      <th>Right Hand x_auc</th>\n",
       "      <th>Right Hand x_peak</th>\n",
       "      <th>Right Hand y_mean</th>\n",
       "      <th>Right Hand y_max</th>\n",
       "      <th>Right Hand y_min</th>\n",
       "      <th>Right Hand y_std</th>\n",
       "      <th>...</th>\n",
       "      <th>left_hand_roll_auc</th>\n",
       "      <th>left_hand_roll_peak</th>\n",
       "      <th>left_hand_pitch_mean</th>\n",
       "      <th>left_hand_pitch_max</th>\n",
       "      <th>left_hand_pitch_min</th>\n",
       "      <th>left_hand_pitch_std</th>\n",
       "      <th>left_hand_pitch_auc</th>\n",
       "      <th>left_hand_pitch_peak</th>\n",
       "      <th>class</th>\n",
       "      <th>Minute</th>\n",
       "    </tr>\n",
       "  </thead>\n",
       "  <tbody>\n",
       "    <tr>\n",
       "      <th>1196</th>\n",
       "      <td>0.076303</td>\n",
       "      <td>4.986892</td>\n",
       "      <td>-3.975720</td>\n",
       "      <td>2.242574</td>\n",
       "      <td>2.898082</td>\n",
       "      <td>10</td>\n",
       "      <td>0.061613</td>\n",
       "      <td>8.150497</td>\n",
       "      <td>-5.442208</td>\n",
       "      <td>2.713338</td>\n",
       "      <td>...</td>\n",
       "      <td>101.963461</td>\n",
       "      <td>14</td>\n",
       "      <td>-4.954636</td>\n",
       "      <td>81.943816</td>\n",
       "      <td>-78.620453</td>\n",
       "      <td>38.255246</td>\n",
       "      <td>-298.557708</td>\n",
       "      <td>12</td>\n",
       "      <td>1</td>\n",
       "      <td>1197</td>\n",
       "    </tr>\n",
       "    <tr>\n",
       "      <th>1197</th>\n",
       "      <td>0.835045</td>\n",
       "      <td>15.886877</td>\n",
       "      <td>-12.494834</td>\n",
       "      <td>4.650763</td>\n",
       "      <td>45.037613</td>\n",
       "      <td>12</td>\n",
       "      <td>0.026184</td>\n",
       "      <td>18.656522</td>\n",
       "      <td>-10.321486</td>\n",
       "      <td>5.115181</td>\n",
       "      <td>...</td>\n",
       "      <td>521.961712</td>\n",
       "      <td>13</td>\n",
       "      <td>-4.335884</td>\n",
       "      <td>70.722657</td>\n",
       "      <td>-83.936469</td>\n",
       "      <td>42.067559</td>\n",
       "      <td>-251.555667</td>\n",
       "      <td>12</td>\n",
       "      <td>1</td>\n",
       "      <td>1198</td>\n",
       "    </tr>\n",
       "    <tr>\n",
       "      <th>1198</th>\n",
       "      <td>0.008895</td>\n",
       "      <td>8.773012</td>\n",
       "      <td>-4.440234</td>\n",
       "      <td>2.693790</td>\n",
       "      <td>-4.358690</td>\n",
       "      <td>12</td>\n",
       "      <td>0.497990</td>\n",
       "      <td>12.135875</td>\n",
       "      <td>-4.850299</td>\n",
       "      <td>3.747749</td>\n",
       "      <td>...</td>\n",
       "      <td>-249.210016</td>\n",
       "      <td>12</td>\n",
       "      <td>10.819177</td>\n",
       "      <td>82.331063</td>\n",
       "      <td>-68.515940</td>\n",
       "      <td>34.702969</td>\n",
       "      <td>680.152163</td>\n",
       "      <td>17</td>\n",
       "      <td>1</td>\n",
       "      <td>1199</td>\n",
       "    </tr>\n",
       "    <tr>\n",
       "      <th>1199</th>\n",
       "      <td>0.472634</td>\n",
       "      <td>16.127835</td>\n",
       "      <td>-24.886223</td>\n",
       "      <td>8.224868</td>\n",
       "      <td>30.314598</td>\n",
       "      <td>8</td>\n",
       "      <td>-0.979732</td>\n",
       "      <td>3.437119</td>\n",
       "      <td>-9.166362</td>\n",
       "      <td>2.573343</td>\n",
       "      <td>...</td>\n",
       "      <td>115.773295</td>\n",
       "      <td>6</td>\n",
       "      <td>-4.651371</td>\n",
       "      <td>60.875178</td>\n",
       "      <td>-67.988121</td>\n",
       "      <td>36.672530</td>\n",
       "      <td>-275.493867</td>\n",
       "      <td>5</td>\n",
       "      <td>1</td>\n",
       "      <td>1200</td>\n",
       "    </tr>\n",
       "    <tr>\n",
       "      <th>1200</th>\n",
       "      <td>-0.671446</td>\n",
       "      <td>2.420870</td>\n",
       "      <td>-6.804340</td>\n",
       "      <td>2.311542</td>\n",
       "      <td>-37.885079</td>\n",
       "      <td>12</td>\n",
       "      <td>0.015685</td>\n",
       "      <td>2.964793</td>\n",
       "      <td>-2.751591</td>\n",
       "      <td>1.295130</td>\n",
       "      <td>...</td>\n",
       "      <td>-255.276991</td>\n",
       "      <td>7</td>\n",
       "      <td>1.416311</td>\n",
       "      <td>74.466249</td>\n",
       "      <td>-85.230871</td>\n",
       "      <td>45.641255</td>\n",
       "      <td>106.649508</td>\n",
       "      <td>6</td>\n",
       "      <td>1</td>\n",
       "      <td>1201</td>\n",
       "    </tr>\n",
       "  </tbody>\n",
       "</table>\n",
       "<p>5 rows × 110 columns</p>\n",
       "</div>"
      ],
      "text/plain": [
       "      Right Hand x_mean  Right Hand x_max  Right Hand x_min  Right Hand x_std  \\\n",
       "1196           0.076303          4.986892         -3.975720          2.242574   \n",
       "1197           0.835045         15.886877        -12.494834          4.650763   \n",
       "1198           0.008895          8.773012         -4.440234          2.693790   \n",
       "1199           0.472634         16.127835        -24.886223          8.224868   \n",
       "1200          -0.671446          2.420870         -6.804340          2.311542   \n",
       "\n",
       "      Right Hand x_auc  Right Hand x_peak  Right Hand y_mean  \\\n",
       "1196          2.898082                 10           0.061613   \n",
       "1197         45.037613                 12           0.026184   \n",
       "1198         -4.358690                 12           0.497990   \n",
       "1199         30.314598                  8          -0.979732   \n",
       "1200        -37.885079                 12           0.015685   \n",
       "\n",
       "      Right Hand y_max  Right Hand y_min  Right Hand y_std  ...  \\\n",
       "1196          8.150497         -5.442208          2.713338  ...   \n",
       "1197         18.656522        -10.321486          5.115181  ...   \n",
       "1198         12.135875         -4.850299          3.747749  ...   \n",
       "1199          3.437119         -9.166362          2.573343  ...   \n",
       "1200          2.964793         -2.751591          1.295130  ...   \n",
       "\n",
       "      left_hand_roll_auc  left_hand_roll_peak  left_hand_pitch_mean  \\\n",
       "1196          101.963461                   14             -4.954636   \n",
       "1197          521.961712                   13             -4.335884   \n",
       "1198         -249.210016                   12             10.819177   \n",
       "1199          115.773295                    6             -4.651371   \n",
       "1200         -255.276991                    7              1.416311   \n",
       "\n",
       "      left_hand_pitch_max  left_hand_pitch_min  left_hand_pitch_std  \\\n",
       "1196            81.943816           -78.620453            38.255246   \n",
       "1197            70.722657           -83.936469            42.067559   \n",
       "1198            82.331063           -68.515940            34.702969   \n",
       "1199            60.875178           -67.988121            36.672530   \n",
       "1200            74.466249           -85.230871            45.641255   \n",
       "\n",
       "      left_hand_pitch_auc  left_hand_pitch_peak  class  Minute  \n",
       "1196          -298.557708                    12      1    1197  \n",
       "1197          -251.555667                    12      1    1198  \n",
       "1198           680.152163                    17      1    1199  \n",
       "1199          -275.493867                     5      1    1200  \n",
       "1200           106.649508                     6      1    1201  \n",
       "\n",
       "[5 rows x 110 columns]"
      ]
     },
     "execution_count": 7,
     "metadata": {},
     "output_type": "execute_result"
    }
   ],
   "source": [
    "new_features_df.to_csv('ampc2/new_features_per_min.csv', index=False)\n",
    "new_features_df.tail()"
   ]
  },
  {
   "cell_type": "markdown",
   "id": "19b59f92ef464470",
   "metadata": {},
   "source": [
    "## 4 - Training"
   ]
  },
  {
   "cell_type": "markdown",
   "id": "2e1411d0bd4d5c5f",
   "metadata": {},
   "source": [
    "### 4.1 Train-test split trainning"
   ]
  },
  {
   "cell_type": "markdown",
   "id": "4c40d2609b61501f",
   "metadata": {},
   "source": [
    "#### Data splitting"
   ]
  },
  {
   "cell_type": "code",
   "execution_count": 8,
   "id": "93139ec69d916f27",
   "metadata": {
    "ExecuteTime": {
     "end_time": "2024-09-27T19:44:13.897510Z",
     "start_time": "2024-09-27T19:44:13.695778Z"
    }
   },
   "outputs": [],
   "source": [
    "from sklearn import svm\n",
    "from sklearn.model_selection import train_test_split\n",
    "from sklearn.metrics import accuracy_score\n",
    "\n",
    "df = pd.read_csv('ampc2/new_features_per_min.csv')\n",
    "\n",
    "X = df.drop(['class', 'Minute'], axis=1)\n",
    "y = df['class']\n",
    "\n",
    "X_train, X_test, y_train, y_test = train_test_split(X, y, test_size=0.3, random_state=42)"
   ]
  },
  {
   "cell_type": "markdown",
   "id": "f05caa56794fcf67",
   "metadata": {},
   "source": [
    "#### Train model"
   ]
  },
  {
   "cell_type": "code",
   "execution_count": 9,
   "id": "ca22ccaa695d123f",
   "metadata": {
    "ExecuteTime": {
     "end_time": "2024-09-27T19:58:56.933805Z",
     "start_time": "2024-09-27T19:44:13.898517Z"
    }
   },
   "outputs": [],
   "source": [
    "clf = svm.SVC(kernel='linear')\n",
    "clf.fit(X_train, y_train)\n",
    "\n",
    "y_pred = clf.predict(X_test)\n",
    "\n",
    "result = accuracy_score(y_test, y_pred)"
   ]
  },
  {
   "cell_type": "code",
   "execution_count": 10,
   "id": "7356f1d475b8bb9c",
   "metadata": {
    "ExecuteTime": {
     "end_time": "2024-09-27T19:58:56.939192Z",
     "start_time": "2024-09-27T19:58:56.934990Z"
    }
   },
   "outputs": [
    {
     "name": "stdout",
     "output_type": "stream",
     "text": [
      "Training Accuracy: 84.210526%\n"
     ]
    }
   ],
   "source": [
    "print(f'Training Accuracy: {result*100:2f}%')"
   ]
  },
  {
   "cell_type": "markdown",
   "id": "d14f6274c97ba67f",
   "metadata": {},
   "source": [
    "### 4.2 - 10-fold Cross validation"
   ]
  },
  {
   "cell_type": "code",
   "execution_count": 11,
   "id": "819c3770bdee1ca7",
   "metadata": {
    "ExecuteTime": {
     "end_time": "2024-09-27T19:58:57.277484Z",
     "start_time": "2024-09-27T19:58:56.940587Z"
    }
   },
   "outputs": [
    {
     "data": {
      "text/plain": [
       "'Cross-validation mean accuracy: 75.69%'"
      ]
     },
     "execution_count": 11,
     "metadata": {},
     "output_type": "execute_result"
    }
   ],
   "source": [
    "from sklearn import svm\n",
    "from sklearn.model_selection import cross_val_score\n",
    "\n",
    "clf = svm.SVC()\n",
    "\n",
    "scores = cross_val_score(clf, X, y, cv=10)\n",
    "\n",
    "result = scores.mean()\n",
    "\n",
    "f\"Cross-validation mean accuracy: {result * 100:.2f}%\""
   ]
  },
  {
   "cell_type": "markdown",
   "id": "48fb15f4d75a691f",
   "metadata": {},
   "source": [
    "### 4.3 - Train-test split and cross validation with Hyperparameter tuning"
   ]
  },
  {
   "cell_type": "markdown",
   "id": "404890185cb6da95",
   "metadata": {},
   "source": [
    "#### 4.3.1 - Use GridSearchCV to find the best parameters for the SVM model"
   ]
  },
  {
   "cell_type": "code",
   "execution_count": 12,
   "id": "5d13a8f28dd9514d",
   "metadata": {
    "ExecuteTime": {
     "start_time": "2024-09-27T19:58:57.278526Z"
    },
    "jupyter": {
     "is_executing": true
    }
   },
   "outputs": [
    {
     "name": "stdout",
     "output_type": "stream",
     "text": [
      "Fitting 5 folds for each of 25 candidates, totalling 125 fits\n",
      "[CV 1/5] END ........C=0.1, gamma=1, kernel=rbf;, score=0.744 total time=   0.0s\n",
      "[CV 2/5] END ........C=0.1, gamma=1, kernel=rbf;, score=0.744 total time=   0.0s\n",
      "[CV 3/5] END ........C=0.1, gamma=1, kernel=rbf;, score=0.744 total time=   0.0s\n",
      "[CV 4/5] END ........C=0.1, gamma=1, kernel=rbf;, score=0.744 total time=   0.0s\n",
      "[CV 5/5] END ........C=0.1, gamma=1, kernel=rbf;, score=0.738 total time=   0.0s\n",
      "[CV 1/5] END ......C=0.1, gamma=0.1, kernel=rbf;, score=0.744 total time=   0.0s\n",
      "[CV 2/5] END ......C=0.1, gamma=0.1, kernel=rbf;, score=0.744 total time=   0.0s\n",
      "[CV 3/5] END ......C=0.1, gamma=0.1, kernel=rbf;, score=0.744 total time=   0.0s\n",
      "[CV 4/5] END ......C=0.1, gamma=0.1, kernel=rbf;, score=0.744 total time=   0.0s\n",
      "[CV 5/5] END ......C=0.1, gamma=0.1, kernel=rbf;, score=0.738 total time=   0.0s\n",
      "[CV 1/5] END .....C=0.1, gamma=0.01, kernel=rbf;, score=0.744 total time=   0.0s\n",
      "[CV 2/5] END .....C=0.1, gamma=0.01, kernel=rbf;, score=0.744 total time=   0.0s\n",
      "[CV 3/5] END .....C=0.1, gamma=0.01, kernel=rbf;, score=0.744 total time=   0.0s\n",
      "[CV 4/5] END .....C=0.1, gamma=0.01, kernel=rbf;, score=0.744 total time=   0.0s\n",
      "[CV 5/5] END .....C=0.1, gamma=0.01, kernel=rbf;, score=0.738 total time=   0.0s\n",
      "[CV 1/5] END ....C=0.1, gamma=0.001, kernel=rbf;, score=0.744 total time=   0.0s\n",
      "[CV 2/5] END ....C=0.1, gamma=0.001, kernel=rbf;, score=0.744 total time=   0.0s\n",
      "[CV 3/5] END ....C=0.1, gamma=0.001, kernel=rbf;, score=0.744 total time=   0.0s\n",
      "[CV 4/5] END ....C=0.1, gamma=0.001, kernel=rbf;, score=0.744 total time=   0.0s\n",
      "[CV 5/5] END ....C=0.1, gamma=0.001, kernel=rbf;, score=0.738 total time=   0.0s\n",
      "[CV 1/5] END ...C=0.1, gamma=0.0001, kernel=rbf;, score=0.744 total time=   0.0s\n",
      "[CV 2/5] END ...C=0.1, gamma=0.0001, kernel=rbf;, score=0.744 total time=   0.0s\n",
      "[CV 3/5] END ...C=0.1, gamma=0.0001, kernel=rbf;, score=0.744 total time=   0.0s\n",
      "[CV 4/5] END ...C=0.1, gamma=0.0001, kernel=rbf;, score=0.744 total time=   0.0s\n",
      "[CV 5/5] END ...C=0.1, gamma=0.0001, kernel=rbf;, score=0.738 total time=   0.0s\n",
      "[CV 1/5] END ..........C=1, gamma=1, kernel=rbf;, score=0.744 total time=   0.0s\n",
      "[CV 2/5] END ..........C=1, gamma=1, kernel=rbf;, score=0.744 total time=   0.0s\n",
      "[CV 3/5] END ..........C=1, gamma=1, kernel=rbf;, score=0.744 total time=   0.0s\n",
      "[CV 4/5] END ..........C=1, gamma=1, kernel=rbf;, score=0.744 total time=   0.0s\n",
      "[CV 5/5] END ..........C=1, gamma=1, kernel=rbf;, score=0.738 total time=   0.0s\n",
      "[CV 1/5] END ........C=1, gamma=0.1, kernel=rbf;, score=0.744 total time=   0.0s\n",
      "[CV 2/5] END ........C=1, gamma=0.1, kernel=rbf;, score=0.744 total time=   0.0s\n",
      "[CV 3/5] END ........C=1, gamma=0.1, kernel=rbf;, score=0.744 total time=   0.0s\n",
      "[CV 4/5] END ........C=1, gamma=0.1, kernel=rbf;, score=0.744 total time=   0.0s\n",
      "[CV 5/5] END ........C=1, gamma=0.1, kernel=rbf;, score=0.738 total time=   0.0s\n",
      "[CV 1/5] END .......C=1, gamma=0.01, kernel=rbf;, score=0.744 total time=   0.0s\n",
      "[CV 2/5] END .......C=1, gamma=0.01, kernel=rbf;, score=0.744 total time=   0.0s\n",
      "[CV 3/5] END .......C=1, gamma=0.01, kernel=rbf;, score=0.744 total time=   0.0s\n",
      "[CV 4/5] END .......C=1, gamma=0.01, kernel=rbf;, score=0.744 total time=   0.0s\n",
      "[CV 5/5] END .......C=1, gamma=0.01, kernel=rbf;, score=0.738 total time=   0.0s\n",
      "[CV 1/5] END ......C=1, gamma=0.001, kernel=rbf;, score=0.744 total time=   0.0s\n",
      "[CV 2/5] END ......C=1, gamma=0.001, kernel=rbf;, score=0.744 total time=   0.0s\n",
      "[CV 3/5] END ......C=1, gamma=0.001, kernel=rbf;, score=0.744 total time=   0.0s\n",
      "[CV 4/5] END ......C=1, gamma=0.001, kernel=rbf;, score=0.744 total time=   0.0s\n",
      "[CV 5/5] END ......C=1, gamma=0.001, kernel=rbf;, score=0.738 total time=   0.0s\n",
      "[CV 1/5] END .....C=1, gamma=0.0001, kernel=rbf;, score=0.744 total time=   0.0s\n",
      "[CV 2/5] END .....C=1, gamma=0.0001, kernel=rbf;, score=0.744 total time=   0.0s\n",
      "[CV 3/5] END .....C=1, gamma=0.0001, kernel=rbf;, score=0.744 total time=   0.0s\n",
      "[CV 4/5] END .....C=1, gamma=0.0001, kernel=rbf;, score=0.744 total time=   0.0s\n",
      "[CV 5/5] END .....C=1, gamma=0.0001, kernel=rbf;, score=0.738 total time=   0.0s\n",
      "[CV 1/5] END .........C=10, gamma=1, kernel=rbf;, score=0.744 total time=   0.0s\n",
      "[CV 2/5] END .........C=10, gamma=1, kernel=rbf;, score=0.744 total time=   0.0s\n",
      "[CV 3/5] END .........C=10, gamma=1, kernel=rbf;, score=0.744 total time=   0.0s\n",
      "[CV 4/5] END .........C=10, gamma=1, kernel=rbf;, score=0.744 total time=   0.0s\n",
      "[CV 5/5] END .........C=10, gamma=1, kernel=rbf;, score=0.738 total time=   0.0s\n",
      "[CV 1/5] END .......C=10, gamma=0.1, kernel=rbf;, score=0.744 total time=   0.0s\n",
      "[CV 2/5] END .......C=10, gamma=0.1, kernel=rbf;, score=0.744 total time=   0.0s\n",
      "[CV 3/5] END .......C=10, gamma=0.1, kernel=rbf;, score=0.744 total time=   0.0s\n",
      "[CV 4/5] END .......C=10, gamma=0.1, kernel=rbf;, score=0.744 total time=   0.0s\n",
      "[CV 5/5] END .......C=10, gamma=0.1, kernel=rbf;, score=0.738 total time=   0.0s\n",
      "[CV 1/5] END ......C=10, gamma=0.01, kernel=rbf;, score=0.744 total time=   0.0s\n",
      "[CV 2/5] END ......C=10, gamma=0.01, kernel=rbf;, score=0.744 total time=   0.0s\n",
      "[CV 3/5] END ......C=10, gamma=0.01, kernel=rbf;, score=0.744 total time=   0.0s\n",
      "[CV 4/5] END ......C=10, gamma=0.01, kernel=rbf;, score=0.744 total time=   0.0s\n",
      "[CV 5/5] END ......C=10, gamma=0.01, kernel=rbf;, score=0.738 total time=   0.0s\n",
      "[CV 1/5] END .....C=10, gamma=0.001, kernel=rbf;, score=0.744 total time=   0.0s\n",
      "[CV 2/5] END .....C=10, gamma=0.001, kernel=rbf;, score=0.744 total time=   0.0s\n",
      "[CV 3/5] END .....C=10, gamma=0.001, kernel=rbf;, score=0.744 total time=   0.0s\n",
      "[CV 4/5] END .....C=10, gamma=0.001, kernel=rbf;, score=0.744 total time=   0.0s\n",
      "[CV 5/5] END .....C=10, gamma=0.001, kernel=rbf;, score=0.738 total time=   0.0s\n",
      "[CV 1/5] END ....C=10, gamma=0.0001, kernel=rbf;, score=0.744 total time=   0.0s\n",
      "[CV 2/5] END ....C=10, gamma=0.0001, kernel=rbf;, score=0.744 total time=   0.0s\n",
      "[CV 3/5] END ....C=10, gamma=0.0001, kernel=rbf;, score=0.744 total time=   0.0s\n",
      "[CV 4/5] END ....C=10, gamma=0.0001, kernel=rbf;, score=0.744 total time=   0.0s\n",
      "[CV 5/5] END ....C=10, gamma=0.0001, kernel=rbf;, score=0.738 total time=   0.0s\n",
      "[CV 1/5] END ........C=100, gamma=1, kernel=rbf;, score=0.744 total time=   0.0s\n",
      "[CV 2/5] END ........C=100, gamma=1, kernel=rbf;, score=0.744 total time=   0.0s\n",
      "[CV 3/5] END ........C=100, gamma=1, kernel=rbf;, score=0.744 total time=   0.0s\n",
      "[CV 4/5] END ........C=100, gamma=1, kernel=rbf;, score=0.744 total time=   0.0s\n",
      "[CV 5/5] END ........C=100, gamma=1, kernel=rbf;, score=0.738 total time=   0.0s\n",
      "[CV 1/5] END ......C=100, gamma=0.1, kernel=rbf;, score=0.744 total time=   0.0s\n",
      "[CV 2/5] END ......C=100, gamma=0.1, kernel=rbf;, score=0.744 total time=   0.0s\n",
      "[CV 3/5] END ......C=100, gamma=0.1, kernel=rbf;, score=0.744 total time=   0.0s\n",
      "[CV 4/5] END ......C=100, gamma=0.1, kernel=rbf;, score=0.744 total time=   0.0s\n",
      "[CV 5/5] END ......C=100, gamma=0.1, kernel=rbf;, score=0.738 total time=   0.0s\n",
      "[CV 1/5] END .....C=100, gamma=0.01, kernel=rbf;, score=0.744 total time=   0.0s\n",
      "[CV 2/5] END .....C=100, gamma=0.01, kernel=rbf;, score=0.744 total time=   0.0s\n",
      "[CV 3/5] END .....C=100, gamma=0.01, kernel=rbf;, score=0.744 total time=   0.0s\n",
      "[CV 4/5] END .....C=100, gamma=0.01, kernel=rbf;, score=0.744 total time=   0.0s\n",
      "[CV 5/5] END .....C=100, gamma=0.01, kernel=rbf;, score=0.738 total time=   0.0s\n",
      "[CV 1/5] END ....C=100, gamma=0.001, kernel=rbf;, score=0.744 total time=   0.0s\n",
      "[CV 2/5] END ....C=100, gamma=0.001, kernel=rbf;, score=0.744 total time=   0.0s\n",
      "[CV 3/5] END ....C=100, gamma=0.001, kernel=rbf;, score=0.744 total time=   0.0s\n",
      "[CV 4/5] END ....C=100, gamma=0.001, kernel=rbf;, score=0.744 total time=   0.0s\n",
      "[CV 5/5] END ....C=100, gamma=0.001, kernel=rbf;, score=0.738 total time=   0.0s\n",
      "[CV 1/5] END ...C=100, gamma=0.0001, kernel=rbf;, score=0.744 total time=   0.0s\n",
      "[CV 2/5] END ...C=100, gamma=0.0001, kernel=rbf;, score=0.744 total time=   0.0s\n",
      "[CV 3/5] END ...C=100, gamma=0.0001, kernel=rbf;, score=0.744 total time=   0.0s\n",
      "[CV 4/5] END ...C=100, gamma=0.0001, kernel=rbf;, score=0.744 total time=   0.0s\n",
      "[CV 5/5] END ...C=100, gamma=0.0001, kernel=rbf;, score=0.738 total time=   0.0s\n",
      "[CV 1/5] END .......C=1000, gamma=1, kernel=rbf;, score=0.744 total time=   0.0s\n",
      "[CV 2/5] END .......C=1000, gamma=1, kernel=rbf;, score=0.744 total time=   0.0s\n",
      "[CV 3/5] END .......C=1000, gamma=1, kernel=rbf;, score=0.744 total time=   0.0s\n",
      "[CV 4/5] END .......C=1000, gamma=1, kernel=rbf;, score=0.744 total time=   0.0s\n",
      "[CV 5/5] END .......C=1000, gamma=1, kernel=rbf;, score=0.738 total time=   0.0s\n",
      "[CV 1/5] END .....C=1000, gamma=0.1, kernel=rbf;, score=0.744 total time=   0.0s\n",
      "[CV 2/5] END .....C=1000, gamma=0.1, kernel=rbf;, score=0.744 total time=   0.0s\n",
      "[CV 3/5] END .....C=1000, gamma=0.1, kernel=rbf;, score=0.744 total time=   0.0s\n",
      "[CV 4/5] END .....C=1000, gamma=0.1, kernel=rbf;, score=0.744 total time=   0.0s\n",
      "[CV 5/5] END .....C=1000, gamma=0.1, kernel=rbf;, score=0.738 total time=   0.0s\n",
      "[CV 1/5] END ....C=1000, gamma=0.01, kernel=rbf;, score=0.744 total time=   0.0s\n",
      "[CV 2/5] END ....C=1000, gamma=0.01, kernel=rbf;, score=0.744 total time=   0.0s\n",
      "[CV 3/5] END ....C=1000, gamma=0.01, kernel=rbf;, score=0.744 total time=   0.0s\n",
      "[CV 4/5] END ....C=1000, gamma=0.01, kernel=rbf;, score=0.744 total time=   0.0s\n",
      "[CV 5/5] END ....C=1000, gamma=0.01, kernel=rbf;, score=0.738 total time=   0.0s\n",
      "[CV 1/5] END ...C=1000, gamma=0.001, kernel=rbf;, score=0.744 total time=   0.0s\n",
      "[CV 2/5] END ...C=1000, gamma=0.001, kernel=rbf;, score=0.744 total time=   0.0s\n",
      "[CV 3/5] END ...C=1000, gamma=0.001, kernel=rbf;, score=0.744 total time=   0.0s\n",
      "[CV 4/5] END ...C=1000, gamma=0.001, kernel=rbf;, score=0.744 total time=   0.0s\n",
      "[CV 5/5] END ...C=1000, gamma=0.001, kernel=rbf;, score=0.738 total time=   0.0s\n",
      "[CV 1/5] END ..C=1000, gamma=0.0001, kernel=rbf;, score=0.744 total time=   0.0s\n",
      "[CV 2/5] END ..C=1000, gamma=0.0001, kernel=rbf;, score=0.744 total time=   0.0s\n",
      "[CV 3/5] END ..C=1000, gamma=0.0001, kernel=rbf;, score=0.744 total time=   0.0s\n",
      "[CV 4/5] END ..C=1000, gamma=0.0001, kernel=rbf;, score=0.744 total time=   0.0s\n",
      "[CV 5/5] END ..C=1000, gamma=0.0001, kernel=rbf;, score=0.738 total time=   0.0s\n"
     ]
    },
    {
     "data": {
      "text/html": [
       "<style>#sk-container-id-1 {\n",
       "  /* Definition of color scheme common for light and dark mode */\n",
       "  --sklearn-color-text: black;\n",
       "  --sklearn-color-line: gray;\n",
       "  /* Definition of color scheme for unfitted estimators */\n",
       "  --sklearn-color-unfitted-level-0: #fff5e6;\n",
       "  --sklearn-color-unfitted-level-1: #f6e4d2;\n",
       "  --sklearn-color-unfitted-level-2: #ffe0b3;\n",
       "  --sklearn-color-unfitted-level-3: chocolate;\n",
       "  /* Definition of color scheme for fitted estimators */\n",
       "  --sklearn-color-fitted-level-0: #f0f8ff;\n",
       "  --sklearn-color-fitted-level-1: #d4ebff;\n",
       "  --sklearn-color-fitted-level-2: #b3dbfd;\n",
       "  --sklearn-color-fitted-level-3: cornflowerblue;\n",
       "\n",
       "  /* Specific color for light theme */\n",
       "  --sklearn-color-text-on-default-background: var(--sg-text-color, var(--theme-code-foreground, var(--jp-content-font-color1, black)));\n",
       "  --sklearn-color-background: var(--sg-background-color, var(--theme-background, var(--jp-layout-color0, white)));\n",
       "  --sklearn-color-border-box: var(--sg-text-color, var(--theme-code-foreground, var(--jp-content-font-color1, black)));\n",
       "  --sklearn-color-icon: #696969;\n",
       "\n",
       "  @media (prefers-color-scheme: dark) {\n",
       "    /* Redefinition of color scheme for dark theme */\n",
       "    --sklearn-color-text-on-default-background: var(--sg-text-color, var(--theme-code-foreground, var(--jp-content-font-color1, white)));\n",
       "    --sklearn-color-background: var(--sg-background-color, var(--theme-background, var(--jp-layout-color0, #111)));\n",
       "    --sklearn-color-border-box: var(--sg-text-color, var(--theme-code-foreground, var(--jp-content-font-color1, white)));\n",
       "    --sklearn-color-icon: #878787;\n",
       "  }\n",
       "}\n",
       "\n",
       "#sk-container-id-1 {\n",
       "  color: var(--sklearn-color-text);\n",
       "}\n",
       "\n",
       "#sk-container-id-1 pre {\n",
       "  padding: 0;\n",
       "}\n",
       "\n",
       "#sk-container-id-1 input.sk-hidden--visually {\n",
       "  border: 0;\n",
       "  clip: rect(1px 1px 1px 1px);\n",
       "  clip: rect(1px, 1px, 1px, 1px);\n",
       "  height: 1px;\n",
       "  margin: -1px;\n",
       "  overflow: hidden;\n",
       "  padding: 0;\n",
       "  position: absolute;\n",
       "  width: 1px;\n",
       "}\n",
       "\n",
       "#sk-container-id-1 div.sk-dashed-wrapped {\n",
       "  border: 1px dashed var(--sklearn-color-line);\n",
       "  margin: 0 0.4em 0.5em 0.4em;\n",
       "  box-sizing: border-box;\n",
       "  padding-bottom: 0.4em;\n",
       "  background-color: var(--sklearn-color-background);\n",
       "}\n",
       "\n",
       "#sk-container-id-1 div.sk-container {\n",
       "  /* jupyter's `normalize.less` sets `[hidden] { display: none; }`\n",
       "     but bootstrap.min.css set `[hidden] { display: none !important; }`\n",
       "     so we also need the `!important` here to be able to override the\n",
       "     default hidden behavior on the sphinx rendered scikit-learn.org.\n",
       "     See: https://github.com/scikit-learn/scikit-learn/issues/21755 */\n",
       "  display: inline-block !important;\n",
       "  position: relative;\n",
       "}\n",
       "\n",
       "#sk-container-id-1 div.sk-text-repr-fallback {\n",
       "  display: none;\n",
       "}\n",
       "\n",
       "div.sk-parallel-item,\n",
       "div.sk-serial,\n",
       "div.sk-item {\n",
       "  /* draw centered vertical line to link estimators */\n",
       "  background-image: linear-gradient(var(--sklearn-color-text-on-default-background), var(--sklearn-color-text-on-default-background));\n",
       "  background-size: 2px 100%;\n",
       "  background-repeat: no-repeat;\n",
       "  background-position: center center;\n",
       "}\n",
       "\n",
       "/* Parallel-specific style estimator block */\n",
       "\n",
       "#sk-container-id-1 div.sk-parallel-item::after {\n",
       "  content: \"\";\n",
       "  width: 100%;\n",
       "  border-bottom: 2px solid var(--sklearn-color-text-on-default-background);\n",
       "  flex-grow: 1;\n",
       "}\n",
       "\n",
       "#sk-container-id-1 div.sk-parallel {\n",
       "  display: flex;\n",
       "  align-items: stretch;\n",
       "  justify-content: center;\n",
       "  background-color: var(--sklearn-color-background);\n",
       "  position: relative;\n",
       "}\n",
       "\n",
       "#sk-container-id-1 div.sk-parallel-item {\n",
       "  display: flex;\n",
       "  flex-direction: column;\n",
       "}\n",
       "\n",
       "#sk-container-id-1 div.sk-parallel-item:first-child::after {\n",
       "  align-self: flex-end;\n",
       "  width: 50%;\n",
       "}\n",
       "\n",
       "#sk-container-id-1 div.sk-parallel-item:last-child::after {\n",
       "  align-self: flex-start;\n",
       "  width: 50%;\n",
       "}\n",
       "\n",
       "#sk-container-id-1 div.sk-parallel-item:only-child::after {\n",
       "  width: 0;\n",
       "}\n",
       "\n",
       "/* Serial-specific style estimator block */\n",
       "\n",
       "#sk-container-id-1 div.sk-serial {\n",
       "  display: flex;\n",
       "  flex-direction: column;\n",
       "  align-items: center;\n",
       "  background-color: var(--sklearn-color-background);\n",
       "  padding-right: 1em;\n",
       "  padding-left: 1em;\n",
       "}\n",
       "\n",
       "\n",
       "/* Toggleable style: style used for estimator/Pipeline/ColumnTransformer box that is\n",
       "clickable and can be expanded/collapsed.\n",
       "- Pipeline and ColumnTransformer use this feature and define the default style\n",
       "- Estimators will overwrite some part of the style using the `sk-estimator` class\n",
       "*/\n",
       "\n",
       "/* Pipeline and ColumnTransformer style (default) */\n",
       "\n",
       "#sk-container-id-1 div.sk-toggleable {\n",
       "  /* Default theme specific background. It is overwritten whether we have a\n",
       "  specific estimator or a Pipeline/ColumnTransformer */\n",
       "  background-color: var(--sklearn-color-background);\n",
       "}\n",
       "\n",
       "/* Toggleable label */\n",
       "#sk-container-id-1 label.sk-toggleable__label {\n",
       "  cursor: pointer;\n",
       "  display: block;\n",
       "  width: 100%;\n",
       "  margin-bottom: 0;\n",
       "  padding: 0.5em;\n",
       "  box-sizing: border-box;\n",
       "  text-align: center;\n",
       "}\n",
       "\n",
       "#sk-container-id-1 label.sk-toggleable__label-arrow:before {\n",
       "  /* Arrow on the left of the label */\n",
       "  content: \"▸\";\n",
       "  float: left;\n",
       "  margin-right: 0.25em;\n",
       "  color: var(--sklearn-color-icon);\n",
       "}\n",
       "\n",
       "#sk-container-id-1 label.sk-toggleable__label-arrow:hover:before {\n",
       "  color: var(--sklearn-color-text);\n",
       "}\n",
       "\n",
       "/* Toggleable content - dropdown */\n",
       "\n",
       "#sk-container-id-1 div.sk-toggleable__content {\n",
       "  max-height: 0;\n",
       "  max-width: 0;\n",
       "  overflow: hidden;\n",
       "  text-align: left;\n",
       "  /* unfitted */\n",
       "  background-color: var(--sklearn-color-unfitted-level-0);\n",
       "}\n",
       "\n",
       "#sk-container-id-1 div.sk-toggleable__content.fitted {\n",
       "  /* fitted */\n",
       "  background-color: var(--sklearn-color-fitted-level-0);\n",
       "}\n",
       "\n",
       "#sk-container-id-1 div.sk-toggleable__content pre {\n",
       "  margin: 0.2em;\n",
       "  border-radius: 0.25em;\n",
       "  color: var(--sklearn-color-text);\n",
       "  /* unfitted */\n",
       "  background-color: var(--sklearn-color-unfitted-level-0);\n",
       "}\n",
       "\n",
       "#sk-container-id-1 div.sk-toggleable__content.fitted pre {\n",
       "  /* unfitted */\n",
       "  background-color: var(--sklearn-color-fitted-level-0);\n",
       "}\n",
       "\n",
       "#sk-container-id-1 input.sk-toggleable__control:checked~div.sk-toggleable__content {\n",
       "  /* Expand drop-down */\n",
       "  max-height: 200px;\n",
       "  max-width: 100%;\n",
       "  overflow: auto;\n",
       "}\n",
       "\n",
       "#sk-container-id-1 input.sk-toggleable__control:checked~label.sk-toggleable__label-arrow:before {\n",
       "  content: \"▾\";\n",
       "}\n",
       "\n",
       "/* Pipeline/ColumnTransformer-specific style */\n",
       "\n",
       "#sk-container-id-1 div.sk-label input.sk-toggleable__control:checked~label.sk-toggleable__label {\n",
       "  color: var(--sklearn-color-text);\n",
       "  background-color: var(--sklearn-color-unfitted-level-2);\n",
       "}\n",
       "\n",
       "#sk-container-id-1 div.sk-label.fitted input.sk-toggleable__control:checked~label.sk-toggleable__label {\n",
       "  background-color: var(--sklearn-color-fitted-level-2);\n",
       "}\n",
       "\n",
       "/* Estimator-specific style */\n",
       "\n",
       "/* Colorize estimator box */\n",
       "#sk-container-id-1 div.sk-estimator input.sk-toggleable__control:checked~label.sk-toggleable__label {\n",
       "  /* unfitted */\n",
       "  background-color: var(--sklearn-color-unfitted-level-2);\n",
       "}\n",
       "\n",
       "#sk-container-id-1 div.sk-estimator.fitted input.sk-toggleable__control:checked~label.sk-toggleable__label {\n",
       "  /* fitted */\n",
       "  background-color: var(--sklearn-color-fitted-level-2);\n",
       "}\n",
       "\n",
       "#sk-container-id-1 div.sk-label label.sk-toggleable__label,\n",
       "#sk-container-id-1 div.sk-label label {\n",
       "  /* The background is the default theme color */\n",
       "  color: var(--sklearn-color-text-on-default-background);\n",
       "}\n",
       "\n",
       "/* On hover, darken the color of the background */\n",
       "#sk-container-id-1 div.sk-label:hover label.sk-toggleable__label {\n",
       "  color: var(--sklearn-color-text);\n",
       "  background-color: var(--sklearn-color-unfitted-level-2);\n",
       "}\n",
       "\n",
       "/* Label box, darken color on hover, fitted */\n",
       "#sk-container-id-1 div.sk-label.fitted:hover label.sk-toggleable__label.fitted {\n",
       "  color: var(--sklearn-color-text);\n",
       "  background-color: var(--sklearn-color-fitted-level-2);\n",
       "}\n",
       "\n",
       "/* Estimator label */\n",
       "\n",
       "#sk-container-id-1 div.sk-label label {\n",
       "  font-family: monospace;\n",
       "  font-weight: bold;\n",
       "  display: inline-block;\n",
       "  line-height: 1.2em;\n",
       "}\n",
       "\n",
       "#sk-container-id-1 div.sk-label-container {\n",
       "  text-align: center;\n",
       "}\n",
       "\n",
       "/* Estimator-specific */\n",
       "#sk-container-id-1 div.sk-estimator {\n",
       "  font-family: monospace;\n",
       "  border: 1px dotted var(--sklearn-color-border-box);\n",
       "  border-radius: 0.25em;\n",
       "  box-sizing: border-box;\n",
       "  margin-bottom: 0.5em;\n",
       "  /* unfitted */\n",
       "  background-color: var(--sklearn-color-unfitted-level-0);\n",
       "}\n",
       "\n",
       "#sk-container-id-1 div.sk-estimator.fitted {\n",
       "  /* fitted */\n",
       "  background-color: var(--sklearn-color-fitted-level-0);\n",
       "}\n",
       "\n",
       "/* on hover */\n",
       "#sk-container-id-1 div.sk-estimator:hover {\n",
       "  /* unfitted */\n",
       "  background-color: var(--sklearn-color-unfitted-level-2);\n",
       "}\n",
       "\n",
       "#sk-container-id-1 div.sk-estimator.fitted:hover {\n",
       "  /* fitted */\n",
       "  background-color: var(--sklearn-color-fitted-level-2);\n",
       "}\n",
       "\n",
       "/* Specification for estimator info (e.g. \"i\" and \"?\") */\n",
       "\n",
       "/* Common style for \"i\" and \"?\" */\n",
       "\n",
       ".sk-estimator-doc-link,\n",
       "a:link.sk-estimator-doc-link,\n",
       "a:visited.sk-estimator-doc-link {\n",
       "  float: right;\n",
       "  font-size: smaller;\n",
       "  line-height: 1em;\n",
       "  font-family: monospace;\n",
       "  background-color: var(--sklearn-color-background);\n",
       "  border-radius: 1em;\n",
       "  height: 1em;\n",
       "  width: 1em;\n",
       "  text-decoration: none !important;\n",
       "  margin-left: 1ex;\n",
       "  /* unfitted */\n",
       "  border: var(--sklearn-color-unfitted-level-1) 1pt solid;\n",
       "  color: var(--sklearn-color-unfitted-level-1);\n",
       "}\n",
       "\n",
       ".sk-estimator-doc-link.fitted,\n",
       "a:link.sk-estimator-doc-link.fitted,\n",
       "a:visited.sk-estimator-doc-link.fitted {\n",
       "  /* fitted */\n",
       "  border: var(--sklearn-color-fitted-level-1) 1pt solid;\n",
       "  color: var(--sklearn-color-fitted-level-1);\n",
       "}\n",
       "\n",
       "/* On hover */\n",
       "div.sk-estimator:hover .sk-estimator-doc-link:hover,\n",
       ".sk-estimator-doc-link:hover,\n",
       "div.sk-label-container:hover .sk-estimator-doc-link:hover,\n",
       ".sk-estimator-doc-link:hover {\n",
       "  /* unfitted */\n",
       "  background-color: var(--sklearn-color-unfitted-level-3);\n",
       "  color: var(--sklearn-color-background);\n",
       "  text-decoration: none;\n",
       "}\n",
       "\n",
       "div.sk-estimator.fitted:hover .sk-estimator-doc-link.fitted:hover,\n",
       ".sk-estimator-doc-link.fitted:hover,\n",
       "div.sk-label-container:hover .sk-estimator-doc-link.fitted:hover,\n",
       ".sk-estimator-doc-link.fitted:hover {\n",
       "  /* fitted */\n",
       "  background-color: var(--sklearn-color-fitted-level-3);\n",
       "  color: var(--sklearn-color-background);\n",
       "  text-decoration: none;\n",
       "}\n",
       "\n",
       "/* Span, style for the box shown on hovering the info icon */\n",
       ".sk-estimator-doc-link span {\n",
       "  display: none;\n",
       "  z-index: 9999;\n",
       "  position: relative;\n",
       "  font-weight: normal;\n",
       "  right: .2ex;\n",
       "  padding: .5ex;\n",
       "  margin: .5ex;\n",
       "  width: min-content;\n",
       "  min-width: 20ex;\n",
       "  max-width: 50ex;\n",
       "  color: var(--sklearn-color-text);\n",
       "  box-shadow: 2pt 2pt 4pt #999;\n",
       "  /* unfitted */\n",
       "  background: var(--sklearn-color-unfitted-level-0);\n",
       "  border: .5pt solid var(--sklearn-color-unfitted-level-3);\n",
       "}\n",
       "\n",
       ".sk-estimator-doc-link.fitted span {\n",
       "  /* fitted */\n",
       "  background: var(--sklearn-color-fitted-level-0);\n",
       "  border: var(--sklearn-color-fitted-level-3);\n",
       "}\n",
       "\n",
       ".sk-estimator-doc-link:hover span {\n",
       "  display: block;\n",
       "}\n",
       "\n",
       "/* \"?\"-specific style due to the `<a>` HTML tag */\n",
       "\n",
       "#sk-container-id-1 a.estimator_doc_link {\n",
       "  float: right;\n",
       "  font-size: 1rem;\n",
       "  line-height: 1em;\n",
       "  font-family: monospace;\n",
       "  background-color: var(--sklearn-color-background);\n",
       "  border-radius: 1rem;\n",
       "  height: 1rem;\n",
       "  width: 1rem;\n",
       "  text-decoration: none;\n",
       "  /* unfitted */\n",
       "  color: var(--sklearn-color-unfitted-level-1);\n",
       "  border: var(--sklearn-color-unfitted-level-1) 1pt solid;\n",
       "}\n",
       "\n",
       "#sk-container-id-1 a.estimator_doc_link.fitted {\n",
       "  /* fitted */\n",
       "  border: var(--sklearn-color-fitted-level-1) 1pt solid;\n",
       "  color: var(--sklearn-color-fitted-level-1);\n",
       "}\n",
       "\n",
       "/* On hover */\n",
       "#sk-container-id-1 a.estimator_doc_link:hover {\n",
       "  /* unfitted */\n",
       "  background-color: var(--sklearn-color-unfitted-level-3);\n",
       "  color: var(--sklearn-color-background);\n",
       "  text-decoration: none;\n",
       "}\n",
       "\n",
       "#sk-container-id-1 a.estimator_doc_link.fitted:hover {\n",
       "  /* fitted */\n",
       "  background-color: var(--sklearn-color-fitted-level-3);\n",
       "}\n",
       "</style><div id=\"sk-container-id-1\" class=\"sk-top-container\"><div class=\"sk-text-repr-fallback\"><pre>GridSearchCV(estimator=SVC(),\n",
       "             param_grid={&#x27;C&#x27;: [0.1, 1, 10, 100, 1000],\n",
       "                         &#x27;gamma&#x27;: [1, 0.1, 0.01, 0.001, 0.0001],\n",
       "                         &#x27;kernel&#x27;: [&#x27;rbf&#x27;]},\n",
       "             verbose=3)</pre><b>In a Jupyter environment, please rerun this cell to show the HTML representation or trust the notebook. <br />On GitHub, the HTML representation is unable to render, please try loading this page with nbviewer.org.</b></div><div class=\"sk-container\" hidden><div class=\"sk-item sk-dashed-wrapped\"><div class=\"sk-label-container\"><div class=\"sk-label fitted sk-toggleable\"><input class=\"sk-toggleable__control sk-hidden--visually\" id=\"sk-estimator-id-1\" type=\"checkbox\" ><label for=\"sk-estimator-id-1\" class=\"sk-toggleable__label fitted sk-toggleable__label-arrow fitted\">&nbsp;&nbsp;GridSearchCV<a class=\"sk-estimator-doc-link fitted\" rel=\"noreferrer\" target=\"_blank\" href=\"https://scikit-learn.org/1.5/modules/generated/sklearn.model_selection.GridSearchCV.html\">?<span>Documentation for GridSearchCV</span></a><span class=\"sk-estimator-doc-link fitted\">i<span>Fitted</span></span></label><div class=\"sk-toggleable__content fitted\"><pre>GridSearchCV(estimator=SVC(),\n",
       "             param_grid={&#x27;C&#x27;: [0.1, 1, 10, 100, 1000],\n",
       "                         &#x27;gamma&#x27;: [1, 0.1, 0.01, 0.001, 0.0001],\n",
       "                         &#x27;kernel&#x27;: [&#x27;rbf&#x27;]},\n",
       "             verbose=3)</pre></div> </div></div><div class=\"sk-parallel\"><div class=\"sk-parallel-item\"><div class=\"sk-item\"><div class=\"sk-label-container\"><div class=\"sk-label fitted sk-toggleable\"><input class=\"sk-toggleable__control sk-hidden--visually\" id=\"sk-estimator-id-2\" type=\"checkbox\" ><label for=\"sk-estimator-id-2\" class=\"sk-toggleable__label fitted sk-toggleable__label-arrow fitted\">best_estimator_: SVC</label><div class=\"sk-toggleable__content fitted\"><pre>SVC(C=0.1, gamma=1)</pre></div> </div></div><div class=\"sk-serial\"><div class=\"sk-item\"><div class=\"sk-estimator fitted sk-toggleable\"><input class=\"sk-toggleable__control sk-hidden--visually\" id=\"sk-estimator-id-3\" type=\"checkbox\" ><label for=\"sk-estimator-id-3\" class=\"sk-toggleable__label fitted sk-toggleable__label-arrow fitted\">&nbsp;SVC<a class=\"sk-estimator-doc-link fitted\" rel=\"noreferrer\" target=\"_blank\" href=\"https://scikit-learn.org/1.5/modules/generated/sklearn.svm.SVC.html\">?<span>Documentation for SVC</span></a></label><div class=\"sk-toggleable__content fitted\"><pre>SVC(C=0.1, gamma=1)</pre></div> </div></div></div></div></div></div></div></div></div>"
      ],
      "text/plain": [
       "GridSearchCV(estimator=SVC(),\n",
       "             param_grid={'C': [0.1, 1, 10, 100, 1000],\n",
       "                         'gamma': [1, 0.1, 0.01, 0.001, 0.0001],\n",
       "                         'kernel': ['rbf']},\n",
       "             verbose=3)"
      ]
     },
     "execution_count": 12,
     "metadata": {},
     "output_type": "execute_result"
    }
   ],
   "source": [
    "from sklearn.svm import SVC\n",
    "from sklearn.model_selection import GridSearchCV\n",
    "\n",
    "param_grid = {\n",
    "    'C' : [0.1, 1, 10, 100, 1000],\n",
    "    'gamma' : [1, 0.1, 0.01, 0.001, 0.0001],\n",
    "    'kernel' : ['rbf']\n",
    "}\n",
    "\n",
    "# Create a GridSearchCV object\n",
    "grid = GridSearchCV(SVC(), param_grid, refit=True, verbose=3)\n",
    "\n",
    "# Fit the model\n",
    "grid.fit(X_train, y_train)"
   ]
  },
  {
   "cell_type": "code",
   "execution_count": 13,
   "id": "008278ba",
   "metadata": {},
   "outputs": [
    {
     "name": "stdout",
     "output_type": "stream",
     "text": [
      "Best Hyperparameters: {'C': 0.1, 'gamma': 1, 'kernel': 'rbf'}\n",
      "SVC(C=0.1, gamma=1)\n"
     ]
    }
   ],
   "source": [
    "from sklearn.model_selection import GridSearchCV\n",
    "# Print the best parameters after hyperparameter tuning\n",
    "best_params = grid.best_params_\n",
    "print(f\"Best Hyperparameters: {best_params}\")\n",
    "\n",
    "# Print how our model looks after hyperparameter tuning\n",
    "print(grid.best_estimator_)"
   ]
  },
  {
   "cell_type": "markdown",
   "id": "ef0bfe27f3072cfd",
   "metadata": {},
   "source": [
    "#### 4.3.2 - Train-test split model training"
   ]
  },
  {
   "cell_type": "code",
   "execution_count": 14,
   "id": "12da054c7162b07b",
   "metadata": {
    "jupyter": {
     "is_executing": true
    }
   },
   "outputs": [
    {
     "data": {
      "text/plain": [
       "'Train-test split training accuracy with hyperparameter tuning : 77.01%'"
      ]
     },
     "execution_count": 14,
     "metadata": {},
     "output_type": "execute_result"
    }
   ],
   "source": [
    "from sklearn.svm import SVC\n",
    "from sklearn.metrics import accuracy_score\n",
    "\n",
    "best_C = grid.best_params_['C']\n",
    "best_gamma = grid.best_params_['gamma']\n",
    "best_kernel = grid.best_params_['kernel']\n",
    "\n",
    "# Create a new model with the best parameters\n",
    "clf_hyp = SVC()\n",
    "\n",
    "# Fit the model\n",
    "clf_hyp.fit(X_train, y_train)\n",
    "\n",
    "y_pred_hyp = clf_hyp.predict(X_test)\n",
    "result = accuracy_score(y_test, y_pred_hyp)\n",
    "\n",
    "f'Train-test split training accuracy with hyperparameter tuning : {result * 100:.2f}%'"
   ]
  },
  {
   "cell_type": "markdown",
   "id": "2fed01d0ce973c32",
   "metadata": {},
   "source": [
    "#### 4.3.3 - Cross validation accuracy score"
   ]
  },
  {
   "cell_type": "code",
   "execution_count": 15,
   "id": "21e2d3039c6b846",
   "metadata": {
    "jupyter": {
     "is_executing": true
    }
   },
   "outputs": [
    {
     "data": {
      "text/plain": [
       "'Cross-validation training mean accuracy with hyperparameter tuning : 75.69%'"
      ]
     },
     "execution_count": 15,
     "metadata": {},
     "output_type": "execute_result"
    }
   ],
   "source": [
    "from sklearn.model_selection import cross_val_score\n",
    "\n",
    "scores = cross_val_score(clf_hyp, X, y, cv=10)\n",
    "\n",
    "result = scores.mean()\n",
    "\n",
    "f'Cross-validation training mean accuracy with hyperparameter tuning : {result * 100:.2f}%'"
   ]
  },
  {
   "cell_type": "markdown",
   "id": "8e0fce004379948e",
   "metadata": {},
   "source": [
    "### 4.4 - Train-test split and cross validation with Hyperparameter tuning + Feature selection"
   ]
  },
  {
   "cell_type": "markdown",
   "id": "2ec89d0457f7dc5b",
   "metadata": {},
   "source": [
    "#### 4.4.1 - Select features and split data based on selected features\n"
   ]
  },
  {
   "cell_type": "code",
   "execution_count": 16,
   "id": "27d952ef863c76f3",
   "metadata": {
    "jupyter": {
     "is_executing": true
    }
   },
   "outputs": [],
   "source": [
    "from sklearn.feature_selection import SelectKBest, f_classif\n",
    "from sklearn.model_selection import train_test_split\n",
    "from sklearn.pipeline import Pipeline\n",
    "\n",
    "df = pd.read_csv('ampc2/new_features_per_min.csv')\n",
    "\n",
    "X = df.drop(['class', 'Minute'], axis=1)\n",
    "y = df['class']\n",
    "\n",
    "# Create a SelectKBest object\n",
    "selector = SelectKBest(f_classif, k=10)\n",
    "\n",
    "X_selected = selector.fit_transform(X, y)\n",
    "\n",
    "X_train, X_test, y_train, y_test = train_test_split(X_selected, y, test_size=0.3, random_state=42)"
   ]
  },
  {
   "cell_type": "markdown",
   "id": "210dcfb12e131b33",
   "metadata": {},
   "source": [
    "#### 4.4.2 - Train-test split model training"
   ]
  },
  {
   "cell_type": "code",
   "execution_count": 17,
   "id": "76dd157693a3964",
   "metadata": {
    "jupyter": {
     "is_executing": true
    }
   },
   "outputs": [
    {
     "data": {
      "text/plain": [
       "'Train-test split accuracy with selected features : 81.16%'"
      ]
     },
     "execution_count": 17,
     "metadata": {},
     "output_type": "execute_result"
    }
   ],
   "source": [
    "from sklearn.svm import SVC\n",
    "from sklearn.metrics import accuracy_score\n",
    "\n",
    "clf = SVC(C=best_C, gamma=best_gamma, kernel=best_kernel)\n",
    "\n",
    "pipeline = Pipeline([\n",
    "    ('feature_selection', selector),\n",
    "    ('svc', clf_hyp)\n",
    "])\n",
    "\n",
    "pipeline.fit(X_train, y_train)\n",
    "\n",
    "y_pred = pipeline.predict(X_test)\n",
    "result = accuracy_score(y_test, y_pred)\n",
    "\n",
    "f'Train-test split accuracy with selected features : {result * 100:.2f}%'"
   ]
  },
  {
   "cell_type": "markdown",
   "id": "6967d2e907b0788c",
   "metadata": {},
   "source": [
    "#### 4.4.3 - Cross validation accuracy score"
   ]
  },
  {
   "cell_type": "code",
   "execution_count": 18,
   "id": "83ca185450f07849",
   "metadata": {
    "jupyter": {
     "is_executing": true
    }
   },
   "outputs": [
    {
     "data": {
      "text/plain": [
       "'Cross-validation mean accuracy with selected features : 78.93%'"
      ]
     },
     "execution_count": 18,
     "metadata": {},
     "output_type": "execute_result"
    }
   ],
   "source": [
    "from sklearn.model_selection import cross_val_score\n",
    "\n",
    "scores = cross_val_score(clf_hyp, X_selected, y, cv=10)\n",
    "\n",
    "result = scores.mean()\n",
    "\n",
    "f'Cross-validation mean accuracy with selected features : {result * 100:.2f}%'"
   ]
  },
  {
   "cell_type": "markdown",
   "id": "ab547b906b87c5d3",
   "metadata": {},
   "source": [
    "## 4.5 - Train-test split and cross validation with Hyperparameter tuning + Dimensionality reduction"
   ]
  },
  {
   "cell_type": "markdown",
   "id": "5c8a08fcdfeabaf7",
   "metadata": {},
   "source": [
    "#### 4.5.1 - Preform PCA to reduce dimensionality to 10 first principle components"
   ]
  },
  {
   "cell_type": "code",
   "execution_count": 19,
   "id": "4dc5c76d3ea1eaf8",
   "metadata": {
    "jupyter": {
     "is_executing": true
    }
   },
   "outputs": [],
   "source": [
    "from sklearn.decomposition import PCA\n",
    "from sklearn.model_selection import train_test_split\n",
    "\n",
    "pca = PCA(n_components=10)\n",
    "\n",
    "X_pca = pca.fit_transform(X)\n",
    "\n",
    "X_train, X_test, y_train, y_test = train_test_split(X_pca, y, test_size=0.3, random_state=42)"
   ]
  },
  {
   "cell_type": "markdown",
   "id": "85c0bab5b3b95f4",
   "metadata": {},
   "source": [
    "#### 4.5.2 - Train-test split model training"
   ]
  },
  {
   "cell_type": "code",
   "execution_count": 20,
   "id": "ddc30f8c7b83963e",
   "metadata": {
    "jupyter": {
     "is_executing": true
    }
   },
   "outputs": [
    {
     "data": {
      "text/plain": [
       "'Train-test split accuracy with PCA : 77.29%'"
      ]
     },
     "execution_count": 20,
     "metadata": {},
     "output_type": "execute_result"
    }
   ],
   "source": [
    "from sklearn.svm import SVC\n",
    "from sklearn.metrics import accuracy_score\n",
    "\n",
    "clf = SVC(C=best_C, gamma=best_gamma, kernel=best_kernel)\n",
    "\n",
    "clf.fit(X_train, y_train)\n",
    "\n",
    "y_pred = clf.predict(X_test)\n",
    "\n",
    "result = accuracy_score(y_test, y_pred)\n",
    "\n",
    "f'Train-test split accuracy with PCA : {result * 100:.2f}%'"
   ]
  },
  {
   "cell_type": "markdown",
   "id": "f62a8a6cf57c8d5",
   "metadata": {},
   "source": [
    "#### 4.5.3 - Cross validation accuracy score"
   ]
  },
  {
   "cell_type": "code",
   "execution_count": 21,
   "id": "70b35caebcaad808",
   "metadata": {
    "jupyter": {
     "is_executing": true
    }
   },
   "outputs": [
    {
     "data": {
      "text/plain": [
       "'Cross-validation mean accuracy with PCA : 75.19%'"
      ]
     },
     "execution_count": 21,
     "metadata": {},
     "output_type": "execute_result"
    }
   ],
   "source": [
    "from sklearn.model_selection import cross_val_score\n",
    "\n",
    "scores = cross_val_score(clf, X_pca, y, cv=10)\n",
    "\n",
    "result = scores.mean()\n",
    "\n",
    "f'Cross-validation mean accuracy with PCA : {result * 100:.2f}%'"
   ]
  },
  {
   "cell_type": "markdown",
   "id": "fe44045d",
   "metadata": {},
   "source": [
    "## 5 - Other Models"
   ]
  },
  {
   "cell_type": "markdown",
   "id": "b55fb5f0",
   "metadata": {},
   "source": [
    "### Import libs and load data"
   ]
  },
  {
   "cell_type": "code",
   "execution_count": 22,
   "id": "da33f957",
   "metadata": {},
   "outputs": [],
   "source": [
    "import pandas as pd\n",
    "import numpy as np\n",
    "\n",
    "# Import the necessary modules\n",
    "from sklearn.linear_model import SGDClassifier\n",
    "from sklearn.ensemble import RandomForestClassifier\n",
    "from sklearn.neural_network import MLPClassifier\n",
    "\n",
    "from sklearn.model_selection import train_test_split, cross_val_score\n",
    "from sklearn.metrics import accuracy_score\n",
    "\n",
    "df = pd.read_csv('ampc2/new_features_per_min.csv')\n",
    "\n",
    "X = df.drop(['class', 'Minute'], axis=1)\n",
    "y = df['class']\n",
    "\n",
    "X_train, X_test, y_train, y_test = train_test_split(X, y, test_size=0.3, random_state=42)"
   ]
  },
  {
   "cell_type": "markdown",
   "id": "314c3de9",
   "metadata": {},
   "source": [
    "### 5.1 - SGD()"
   ]
  },
  {
   "cell_type": "code",
   "execution_count": 23,
   "id": "5321ef57",
   "metadata": {},
   "outputs": [
    {
     "data": {
      "text/plain": [
       "'SGDClassifier Train-test split accuracy : 73.96%'"
      ]
     },
     "execution_count": 23,
     "metadata": {},
     "output_type": "execute_result"
    }
   ],
   "source": [
    "sgd_model = SGDClassifier(random_state=42)\n",
    "\n",
    "sgd_model.fit(X_train, y_train)\n",
    "\n",
    "y_pred = sgd_model.predict(X_test)\n",
    "\n",
    "result = accuracy_score(y_test, y_pred)\n",
    "\n",
    "f'SGDClassifier Train-test split accuracy : {result * 100:.2f}%'"
   ]
  },
  {
   "cell_type": "code",
   "execution_count": 24,
   "id": "30f738f3",
   "metadata": {},
   "outputs": [
    {
     "data": {
      "text/plain": [
       "'SGDClassifier Cross-validation mean accuracy : 74.02%'"
      ]
     },
     "execution_count": 24,
     "metadata": {},
     "output_type": "execute_result"
    }
   ],
   "source": [
    "scores = cross_val_score(sgd_model, X, y, cv=10)\n",
    "\n",
    "result = scores.mean()\n",
    "\n",
    "f'SGDClassifier Cross-validation mean accuracy : {result * 100:.2f}%'"
   ]
  },
  {
   "cell_type": "markdown",
   "id": "9828ca96",
   "metadata": {},
   "source": [
    "### 5.2 - Random Forest Classifier"
   ]
  },
  {
   "cell_type": "code",
   "execution_count": 25,
   "id": "c64aa3a2",
   "metadata": {},
   "outputs": [
    {
     "data": {
      "text/plain": [
       "'RandomForestClassifier Train-test split accuracy : 84.76%'"
      ]
     },
     "execution_count": 25,
     "metadata": {},
     "output_type": "execute_result"
    }
   ],
   "source": [
    "rf_model = RandomForestClassifier(random_state=42)\n",
    "\n",
    "rf_model.fit(X_train, y_train)\n",
    "\n",
    "y_pred = rf_model.predict(X_test)\n",
    "\n",
    "result = accuracy_score(y_test, y_pred)\n",
    "\n",
    "f'RandomForestClassifier Train-test split accuracy : {result * 100:.2f}%'"
   ]
  },
  {
   "cell_type": "code",
   "execution_count": 26,
   "id": "5cdcdf23",
   "metadata": {},
   "outputs": [
    {
     "data": {
      "text/plain": [
       "'RandomForestClassifier Cross-validation mean accuracy : 84.26%'"
      ]
     },
     "execution_count": 26,
     "metadata": {},
     "output_type": "execute_result"
    }
   ],
   "source": [
    "scores = cross_val_score(rf_model, X, y, cv=10)\n",
    "\n",
    "result = scores.mean()\n",
    "\n",
    "f'RandomForestClassifier Cross-validation mean accuracy : {result * 100:.2f}%'"
   ]
  },
  {
   "cell_type": "markdown",
   "id": "34e55a13",
   "metadata": {},
   "source": [
    "### 5.3 - MLP Classifier"
   ]
  },
  {
   "cell_type": "code",
   "execution_count": 27,
   "id": "ac747df9",
   "metadata": {},
   "outputs": [
    {
     "data": {
      "text/plain": [
       "'MLPClassifier Train-test split accuracy : 77.01%'"
      ]
     },
     "execution_count": 27,
     "metadata": {},
     "output_type": "execute_result"
    }
   ],
   "source": [
    "mlp_model = MLPClassifier(random_state=42)\n",
    "\n",
    "mlp_model.fit(X_train, y_train)\n",
    "\n",
    "y_pred = mlp_model.predict(X_test)\n",
    "\n",
    "result = accuracy_score(y_test, y_pred)\n",
    "\n",
    "f'MLPClassifier Train-test split accuracy : {result * 100:.2f}%'"
   ]
  },
  {
   "cell_type": "code",
   "execution_count": 28,
   "id": "5652c957",
   "metadata": {},
   "outputs": [
    {
     "data": {
      "text/plain": [
       "'MLPClassifier Cross-validation mean accuracy : 74.02%'"
      ]
     },
     "execution_count": 28,
     "metadata": {},
     "output_type": "execute_result"
    }
   ],
   "source": [
    "scores = cross_val_score(sgd_model, X, y, cv=10)\n",
    "\n",
    "result = scores.mean()\n",
    "\n",
    "f'MLPClassifier Cross-validation mean accuracy : {result * 100:.2f}%'"
   ]
  }
 ],
 "metadata": {
  "kernelspec": {
   "display_name": "venv",
   "language": "python",
   "name": "python3"
  },
  "language_info": {
   "codemirror_mode": {
    "name": "ipython",
    "version": 3
   },
   "file_extension": ".py",
   "mimetype": "text/x-python",
   "name": "python",
   "nbconvert_exporter": "python",
   "pygments_lexer": "ipython3",
   "version": "3.12.3"
  }
 },
 "nbformat": 4,
 "nbformat_minor": 5
}
