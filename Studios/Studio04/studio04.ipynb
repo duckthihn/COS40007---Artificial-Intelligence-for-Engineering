{
 "cells": [
  {
   "cell_type": "markdown",
   "metadata": {},
   "source": [
    "# Import Libs"
   ]
  },
  {
   "cell_type": "code",
   "metadata": {
    "ExecuteTime": {
     "end_time": "2024-10-05T17:03:26.521460Z",
     "start_time": "2024-10-05T17:03:26.519023Z"
    }
   },
   "source": [
    "import pandas as pd\n",
    "import numpy as np"
   ],
   "outputs": [],
   "execution_count": 1
  },
  {
   "cell_type": "code",
   "metadata": {
    "ExecuteTime": {
     "end_time": "2024-10-05T17:03:26.687843Z",
     "start_time": "2024-10-05T17:03:26.546830Z"
    }
   },
   "source": [
    "df = pd.read_csv('all_data.csv')\n",
    "\n",
    "df.columns"
   ],
   "outputs": [
    {
     "data": {
      "text/plain": [
       "Index(['acc_mean_x_right', 'acc_mean_y_right', 'acc_mean_z_right',\n",
       "       'acc_mean_xyz_right', 'acc_mean_xy_right', 'acc_mean_yz_right',\n",
       "       'acc_mean_zx_right', 'acc_mean_pitch_right', 'acc_mean_roll_right',\n",
       "       'acc_std_x_right',\n",
       "       ...\n",
       "       'gyro_max_yz_left', 'gyro_max_zx_left', 'gyro_peak_x_left',\n",
       "       'gyro_peak_y_left', 'gyro_peak_z_left', 'gyro_peak_xyz_left',\n",
       "       'gyro_peak_xy_left', 'gyro_peak_yz_left', 'gyro_peak_zx_left', 'class'],\n",
       "      dtype='object', length=157)"
      ]
     },
     "execution_count": 2,
     "metadata": {},
     "output_type": "execute_result"
    }
   ],
   "execution_count": 2
  },
  {
   "cell_type": "markdown",
   "metadata": {},
   "source": [
    "# 2 - Classification Report"
   ]
  },
  {
   "cell_type": "markdown",
   "metadata": {},
   "source": [
    "## 2.1 - SVC Model"
   ]
  },
  {
   "cell_type": "code",
   "metadata": {
    "ExecuteTime": {
     "end_time": "2024-10-05T17:03:29.264115Z",
     "start_time": "2024-10-05T17:03:26.688852Z"
    }
   },
   "source": [
    "from sklearn.svm import SVC\n",
    "from sklearn.model_selection import train_test_split\n",
    "from sklearn.metrics import classification_report\n",
    "\n",
    "X = df.drop(['class'], axis=1)\n",
    "y = df['class']\n",
    "\n",
    "X_train, X_test, y_train, y_test = train_test_split(X, y, test_size=0.3, random_state=42)\n",
    "\n",
    "svc = SVC()\n",
    "\n",
    "svc.fit(X_train, y_train)\n",
    "\n",
    "y_pred = svc.predict(X_test)\n",
    "\n",
    "print(classification_report(y_test, y_pred))"
   ],
   "outputs": [
    {
     "name": "stdout",
     "output_type": "stream",
     "text": [
      "              precision    recall  f1-score   support\n",
      "\n",
      "           0       0.81      0.49      0.61       456\n",
      "           1       0.00      0.00      0.00        98\n",
      "           2       0.90      0.98      0.94      2935\n",
      "\n",
      "    accuracy                           0.89      3489\n",
      "   macro avg       0.57      0.49      0.52      3489\n",
      "weighted avg       0.86      0.89      0.87      3489\n",
      "\n"
     ]
    },
    {
     "name": "stderr",
     "output_type": "stream",
     "text": [
      "D:\\Swinburne\\COS40007 - Artificial Intelligence for Engineering\\venv\\Lib\\site-packages\\sklearn\\metrics\\_classification.py:1531: UndefinedMetricWarning: Precision is ill-defined and being set to 0.0 in labels with no predicted samples. Use `zero_division` parameter to control this behavior.\n",
      "  _warn_prf(average, modifier, f\"{metric.capitalize()} is\", len(result))\n",
      "D:\\Swinburne\\COS40007 - Artificial Intelligence for Engineering\\venv\\Lib\\site-packages\\sklearn\\metrics\\_classification.py:1531: UndefinedMetricWarning: Precision is ill-defined and being set to 0.0 in labels with no predicted samples. Use `zero_division` parameter to control this behavior.\n",
      "  _warn_prf(average, modifier, f\"{metric.capitalize()} is\", len(result))\n",
      "D:\\Swinburne\\COS40007 - Artificial Intelligence for Engineering\\venv\\Lib\\site-packages\\sklearn\\metrics\\_classification.py:1531: UndefinedMetricWarning: Precision is ill-defined and being set to 0.0 in labels with no predicted samples. Use `zero_division` parameter to control this behavior.\n",
      "  _warn_prf(average, modifier, f\"{metric.capitalize()} is\", len(result))\n"
     ]
    }
   ],
   "execution_count": 3
  },
  {
   "cell_type": "markdown",
   "metadata": {},
   "source": [
    "## 2.2 - RandomForest Model"
   ]
  },
  {
   "cell_type": "code",
   "metadata": {
    "ExecuteTime": {
     "end_time": "2024-10-05T17:03:44.061802Z",
     "start_time": "2024-10-05T17:03:29.265160Z"
    }
   },
   "source": [
    "from sklearn.ensemble import RandomForestClassifier\n",
    "\n",
    "rf = RandomForestClassifier()\n",
    "\n",
    "rf.fit(X_train, y_train)\n",
    "\n",
    "y_pred = rf.predict(X_test)\n",
    "\n",
    "print(classification_report(y_test, y_pred))"
   ],
   "outputs": [
    {
     "name": "stdout",
     "output_type": "stream",
     "text": [
      "              precision    recall  f1-score   support\n",
      "\n",
      "           0       0.88      0.65      0.74       456\n",
      "           1       0.73      0.22      0.34        98\n",
      "           2       0.93      0.98      0.95      2935\n",
      "\n",
      "    accuracy                           0.92      3489\n",
      "   macro avg       0.84      0.62      0.68      3489\n",
      "weighted avg       0.91      0.92      0.91      3489\n",
      "\n"
     ]
    }
   ],
   "execution_count": 4
  },
  {
   "cell_type": "markdown",
   "metadata": {},
   "source": [
    "## 2.3 - SGD Model"
   ]
  },
  {
   "cell_type": "code",
   "metadata": {
    "ExecuteTime": {
     "end_time": "2024-10-05T17:03:44.881355Z",
     "start_time": "2024-10-05T17:03:44.062811Z"
    }
   },
   "source": [
    "from sklearn.linear_model import SGDClassifier\n",
    "\n",
    "sgd = SGDClassifier()\n",
    "\n",
    "sgd.fit(X_train, y_train)\n",
    "\n",
    "y_pred = sgd.predict(X_test)\n",
    "\n",
    "print(classification_report(y_test, y_pred))"
   ],
   "outputs": [
    {
     "name": "stdout",
     "output_type": "stream",
     "text": [
      "              precision    recall  f1-score   support\n",
      "\n",
      "           0       0.75      0.54      0.63       456\n",
      "           1       0.54      0.13      0.21        98\n",
      "           2       0.91      0.97      0.94      2935\n",
      "\n",
      "    accuracy                           0.89      3489\n",
      "   macro avg       0.73      0.55      0.59      3489\n",
      "weighted avg       0.88      0.89      0.88      3489\n",
      "\n"
     ]
    }
   ],
   "execution_count": 5
  },
  {
   "cell_type": "markdown",
   "metadata": {},
   "source": [
    "## 2.4 - MLP Model"
   ]
  },
  {
   "cell_type": "code",
   "metadata": {
    "ExecuteTime": {
     "end_time": "2024-10-05T17:03:52.551823Z",
     "start_time": "2024-10-05T17:03:44.882421Z"
    }
   },
   "source": [
    "from sklearn.neural_network import MLPClassifier\n",
    "\n",
    "mlp = MLPClassifier()\n",
    "\n",
    "mlp.fit(X_train, y_train)\n",
    "\n",
    "y_pred = mlp.predict(X_test)\n",
    "\n",
    "print(classification_report(y_test, y_pred))"
   ],
   "outputs": [
    {
     "name": "stdout",
     "output_type": "stream",
     "text": [
      "              precision    recall  f1-score   support\n",
      "\n",
      "           0       0.81      0.53      0.64       456\n",
      "           1       0.30      0.14      0.19        98\n",
      "           2       0.91      0.97      0.94      2935\n",
      "\n",
      "    accuracy                           0.89      3489\n",
      "   macro avg       0.67      0.55      0.59      3489\n",
      "weighted avg       0.88      0.89      0.88      3489\n",
      "\n"
     ]
    }
   ],
   "execution_count": 6
  },
  {
   "cell_type": "markdown",
   "metadata": {},
   "source": [
    "## 2.5 Summary"
   ]
  },
  {
   "cell_type": "markdown",
   "metadata": {},
   "source": [
    "1) Which model has the best F1 score in terms of weighted average. Is this different from the accuracy that you obtained in Studio 3?\n",
    "2) Which model has the best precision value\n",
    "3) Which model has the best recall value\n",
    "4) Which model has the best accuracy value\n",
    "5) Which class has poor performance across all models?"
   ]
  },
  {
   "cell_type": "markdown",
   "metadata": {},
   "source": [
    "# 3 - Confusion Matrix"
   ]
  },
  {
   "metadata": {},
   "cell_type": "markdown",
   "source": "## 3.1 - SGD"
  },
  {
   "cell_type": "code",
   "metadata": {
    "ExecuteTime": {
     "end_time": "2024-10-05T17:03:53.305382Z",
     "start_time": "2024-10-05T17:03:52.552754Z"
    }
   },
   "source": [
    "from sklearn.metrics import confusion_matrix\n",
    "import seaborn as sns\n",
    "import matplotlib.pyplot as plt\n",
    "\n",
    "sgd.fit(X_train, y_train)\n",
    "\n",
    "y_pred = sgd.predict(X_test)\n",
    "\n",
    "cm_sgd = confusion_matrix(y_test, y_pred)\n",
    "\n",
    "cm_sgd\n"
   ],
   "outputs": [
    {
     "data": {
      "text/plain": [
       "array([[ 180,    5,  271],\n",
       "       [   3,    0,   95],\n",
       "       [  63,    0, 2872]])"
      ]
     },
     "execution_count": 7,
     "metadata": {},
     "output_type": "execute_result"
    }
   ],
   "execution_count": 7
  },
  {
   "metadata": {
    "ExecuteTime": {
     "end_time": "2024-10-05T17:03:53.311659Z",
     "start_time": "2024-10-05T17:03:53.307Z"
    }
   },
   "cell_type": "code",
   "source": "## 3.2 - Random Forest",
   "outputs": [],
   "execution_count": 8
  },
  {
   "metadata": {
    "ExecuteTime": {
     "end_time": "2024-10-05T17:04:10.810673Z",
     "start_time": "2024-10-05T17:03:53.312780Z"
    }
   },
   "cell_type": "code",
   "source": [
    "from sklearn.metrics import confusion_matrix\n",
    "\n",
    "rf.fit(X_train, y_train)\n",
    "\n",
    "y_pred = rf.predict(X_test)\n",
    "\n",
    "cm_rf = confusion_matrix(y_test, y_pred)\n",
    "\n",
    "cm_rf"
   ],
   "outputs": [
    {
     "data": {
      "text/plain": [
       "array([[ 293,    1,  162],\n",
       "       [   2,   25,   71],\n",
       "       [  39,    6, 2890]])"
      ]
     },
     "execution_count": 9,
     "metadata": {},
     "output_type": "execute_result"
    }
   ],
   "execution_count": 9
  },
  {
   "metadata": {},
   "cell_type": "markdown",
   "source": "## 3.3 - SVC"
  },
  {
   "metadata": {
    "ExecuteTime": {
     "end_time": "2024-10-05T17:04:14.126385Z",
     "start_time": "2024-10-05T17:04:10.810673Z"
    }
   },
   "cell_type": "code",
   "source": [
    "from sklearn.metrics import confusion_matrix\n",
    "\n",
    "svc.fit(X_train, y_train)\n",
    "\n",
    "y_pred = svc.predict(X_test)\n",
    "\n",
    "cm_svm = confusion_matrix(y_test, y_pred)\n",
    "\n",
    "cm_svm"
   ],
   "outputs": [
    {
     "data": {
      "text/plain": [
       "array([[ 223,    0,  233],\n",
       "       [   2,    0,   96],\n",
       "       [  51,    0, 2884]])"
      ]
     },
     "execution_count": 10,
     "metadata": {},
     "output_type": "execute_result"
    }
   ],
   "execution_count": 10
  },
  {
   "metadata": {},
   "cell_type": "markdown",
   "source": "## 3.4 - MLP"
  },
  {
   "metadata": {
    "ExecuteTime": {
     "end_time": "2024-10-05T17:04:20.866394Z",
     "start_time": "2024-10-05T17:04:14.127512Z"
    }
   },
   "cell_type": "code",
   "source": [
    "from sklearn.metrics import confusion_matrix\n",
    "\n",
    "mlp.fit(X_train, y_train)\n",
    "\n",
    "y_pred = mlp.predict(X_test)\n",
    "\n",
    "cm_mlp = confusion_matrix(y_test, y_pred)\n",
    "\n",
    "cm_mlp"
   ],
   "outputs": [
    {
     "data": {
      "text/plain": [
       "array([[ 290,   29,  137],\n",
       "       [   9,   47,   42],\n",
       "       [ 216,  168, 2551]])"
      ]
     },
     "execution_count": 11,
     "metadata": {},
     "output_type": "execute_result"
    }
   ],
   "execution_count": 11
  },
  {
   "metadata": {
    "ExecuteTime": {
     "end_time": "2024-10-05T17:04:21.801250Z",
     "start_time": "2024-10-05T17:04:20.867405Z"
    }
   },
   "cell_type": "code",
   "source": [
    "fig, axes = plt.subplots(2, 2, figsize=(15, 10))\n",
    "sns.heatmap(cm_sgd, annot=True, fmt='d', cmap='Blues', ax=axes[0, 0])\n",
    "axes[0, 0].set_title('SGD Confusion Matrix')\n",
    "axes[0, 0].set_xlabel('Predicted')\n",
    "axes[0, 0].set_ylabel('Actual')\n",
    "\n",
    "sns.heatmap(cm_svm, annot=True, fmt='d', cmap='Blues', ax=axes[0, 1])\n",
    "axes[0, 1].set_title('SVM Confusion Matrix')\n",
    "axes[0, 1].set_xlabel('Predicted')\n",
    "axes[0, 1].set_ylabel('Actual')\n",
    "\n",
    "sns.heatmap(cm_rf, annot=True, fmt='d', cmap='Blues', ax=axes[1, 0])\n",
    "axes[1, 0].set_title('Random Forest Confusion Matrix')\n",
    "axes[1, 0].set_xlabel('Predicted')\n",
    "axes[1, 0].set_ylabel('Actual')\n",
    "\n",
    "sns.heatmap(cm_mlp, annot=True, fmt='d', cmap='Blues', ax=axes[1, 1])\n",
    "axes[1, 1].set_title('MLP Confusion Matrix')\n",
    "axes[1, 1].set_xlabel('Predicted')\n",
    "axes[1, 1].set_ylabel('Actual')\n",
    "\n",
    "plt.tight_layout()\n",
    "plt.show()"
   ],
   "outputs": [
    {
     "data": {
      "text/plain": [
       "<Figure size 1500x1000 with 8 Axes>"
      ],
      "image/png": "[encoded data removed]"
     },
     "metadata": {},
     "output_type": "display_data"
    }
   ],
   "execution_count": 12
  },
  {
   "metadata": {},
   "cell_type": "markdown",
   "source": "# 4 - Class balancing"
  },
  {
   "metadata": {
    "ExecuteTime": {
     "end_time": "2024-10-05T17:27:21.300001Z",
     "start_time": "2024-10-05T17:27:21.290919Z"
    }
   },
   "cell_type": "code",
   "source": [
    "# Check distribution of classes\n",
    "df['class'].value_counts()"
   ],
   "outputs": [
    {
     "data": {
      "text/plain": [
       "class\n",
       "2    9693\n",
       "0    1593\n",
       "1     343\n",
       "Name: count, dtype: int64"
      ]
     },
     "execution_count": 13,
     "metadata": {},
     "output_type": "execute_result"
    }
   ],
   "execution_count": 13
  },
  {
   "metadata": {
    "ExecuteTime": {
     "end_time": "2024-10-05T17:28:38.669882Z",
     "start_time": "2024-10-05T17:28:37.380691Z"
    }
   },
   "cell_type": "code",
   "source": [
    "from imblearn.combine import SMOTETomek\n",
    "from collections import Counter\n",
    "\n",
    "# Assuming X_train and y_train are your features and target variables\n",
    "smote_tomek = SMOTETomek(random_state=42)\n",
    "X_resampled, y_resampled = smote_tomek.fit_resample(X_train, y_train)\n",
    "\n",
    "# Check class distribution after SMOTE + undersampling\n",
    "print(Counter(y_resampled))"
   ],
   "outputs": [
    {
     "name": "stdout",
     "output_type": "stream",
     "text": [
      "Counter({1: 6757, 0: 6746, 2: 6745})\n"
     ]
    }
   ],
   "execution_count": 15
  },
  {
   "metadata": {
    "ExecuteTime": {
     "end_time": "2024-10-05T17:29:05.455880Z",
     "start_time": "2024-10-05T17:29:05.450653Z"
    }
   },
   "cell_type": "code",
   "source": "y_resampled.value_counts()",
   "outputs": [
    {
     "data": {
      "text/plain": [
       "class\n",
       "1    6757\n",
       "0    6746\n",
       "2    6745\n",
       "Name: count, dtype: int64"
      ]
     },
     "execution_count": 16,
     "metadata": {},
     "output_type": "execute_result"
    }
   ],
   "execution_count": 16
  },
  {
   "metadata": {
    "ExecuteTime": {
     "end_time": "2024-10-05T17:31:07.690098Z",
     "start_time": "2024-10-05T17:30:53.345981Z"
    }
   },
   "cell_type": "code",
   "source": [
    "from sklearn.ensemble import RandomForestClassifier\n",
    "from sklearn.model_selection import train_test_split\n",
    "from sklearn.metrics import classification_report, confusion_matrix\n",
    "\n",
    "# Train a random forest classier on the resampled data\n",
    "X_train, X_test, y_train, y_test = train_test_split(X, y, test_size=0.3, random_state=42)\n",
    "\n",
    "rf = RandomForestClassifier()\n",
    "\n",
    "rf.fit(X_train, y_train)\n",
    "\n",
    "y_pred = rf.predict(X_test)\n",
    "\n",
    "print(classification_report(y_test, y_pred))"
   ],
   "outputs": [
    {
     "name": "stdout",
     "output_type": "stream",
     "text": [
      "              precision    recall  f1-score   support\n",
      "\n",
      "           0       0.87      0.65      0.74       456\n",
      "           1       0.75      0.24      0.37        98\n",
      "           2       0.93      0.98      0.95      2935\n",
      "\n",
      "    accuracy                           0.92      3489\n",
      "   macro avg       0.85      0.63      0.69      3489\n",
      "weighted avg       0.91      0.92      0.91      3489\n",
      "\n"
     ]
    }
   ],
   "execution_count": 17
  },
  {
   "metadata": {
    "ExecuteTime": {
     "end_time": "2024-10-05T17:31:22.428963Z",
     "start_time": "2024-10-05T17:31:22.424050Z"
    }
   },
   "cell_type": "code",
   "source": [
    "# Visualize the confusion matrix\n",
    "cm_rf = confusion_matrix(y_test, y_pred)\n",
    "\n",
    "cm_rf"
   ],
   "outputs": [
    {
     "data": {
      "text/plain": [
       "array([[ 295,    2,  159],\n",
       "       [   1,   24,   73],\n",
       "       [  42,    6, 2887]])"
      ]
     },
     "execution_count": 18,
     "metadata": {},
     "output_type": "execute_result"
    }
   ],
   "execution_count": 18
  },
  {
   "metadata": {},
   "cell_type": "markdown",
   "source": "## Adding class weights"
  },
  {
   "metadata": {
    "ExecuteTime": {
     "end_time": "2024-10-05T17:34:34.960541Z",
     "start_time": "2024-10-05T17:34:21.060746Z"
    }
   },
   "cell_type": "code",
   "source": [
    "class_weights = {\n",
    "    0 : 0.3,\n",
    "    1 : 0.5,\n",
    "    2 : 0.2\n",
    "}\n",
    "\n",
    "# Train the model again with class weights\n",
    "\n",
    "X_train, X_test, y_train, y_test = train_test_split(X, y, test_size=0.3, random_state=42)\n",
    "\n",
    "rf = RandomForestClassifier()\n",
    "\n",
    "rf.fit(X_train, y_train)\n",
    "\n",
    "y_pred = rf.predict(X_test)\n",
    "\n",
    "print(classification_report(y_test, y_pred))"
   ],
   "outputs": [
    {
     "name": "stdout",
     "output_type": "stream",
     "text": [
      "              precision    recall  f1-score   support\n",
      "\n",
      "           0       0.88      0.65      0.75       456\n",
      "           1       0.80      0.24      0.38        98\n",
      "           2       0.93      0.99      0.95      2935\n",
      "\n",
      "    accuracy                           0.92      3489\n",
      "   macro avg       0.87      0.63      0.69      3489\n",
      "weighted avg       0.92      0.92      0.91      3489\n",
      "\n"
     ]
    }
   ],
   "execution_count": 20
  },
  {
   "metadata": {
    "ExecuteTime": {
     "end_time": "2024-10-05T17:34:50.799475Z",
     "start_time": "2024-10-05T17:34:50.794466Z"
    }
   },
   "cell_type": "code",
   "source": "confusion_matrix(y_test, y_pred)",
   "outputs": [
    {
     "data": {
      "text/plain": [
       "array([[ 295,    1,  160],\n",
       "       [   1,   24,   73],\n",
       "       [  39,    5, 2891]])"
      ]
     },
     "execution_count": 21,
     "metadata": {},
     "output_type": "execute_result"
    }
   ],
   "execution_count": 21
  }
 ],
 "metadata": {
  "kernelspec": {
   "display_name": "venv",
   "language": "python",
   "name": "python3"
  },
  "language_info": {
   "codemirror_mode": {
    "name": "ipython",
    "version": 3
   },
   "file_extension": ".py",
   "mimetype": "text/x-python",
   "name": "python",
   "nbconvert_exporter": "python",
   "pygments_lexer": "ipython3",
   "version": "3.12.3"
  }
 },
 "nbformat": 4,
 "nbformat_minor": 2
}
